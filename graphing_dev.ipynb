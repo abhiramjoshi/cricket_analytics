{
 "cells": [
  {
   "cell_type": "code",
   "execution_count": null,
   "metadata": {},
   "outputs": [],
   "source": [
    "import codebase.match_data as match\n",
    "import codebase.settings as settings\n",
    "import pandas as pd\n",
    "import numpy as np\n",
    "from pprint import pprint\n",
    "import matplotlib as plt\n",
    "import seaborn as sns\n",
    "import codebase.analysis_functions as af\n",
    "import codebase.web_scrape_functions as wsf\n",
    "from utils import logger\n",
    "import logging\n",
    "from espncricinfo import player\n",
    "import requests\n",
    "import utils\n",
    "from datetime import datetime \n",
    "from datetime import timedelta\n",
    "\n",
    "%load_ext autoreload\n",
    "%autoreload 2\n",
    "logger.handlers[1].setLevel(logging.INFO)\n",
    "# logger.disabled = True\n",
    "pd.get_option(\"display.max_columns\")"
   ]
  },
  {
   "cell_type": "code",
   "execution_count": null,
   "metadata": {},
   "outputs": [],
   "source": [
    "def get_player_json(player_id):\n",
    "    response = requests.get(f\"http://core.espnuk.org/v2/sports/cricket/athletes/{player_id}\")\n",
    "    if response.status_code == 404:\n",
    "        raise utils.PlayerNotFoundError\n",
    "    else:\n",
    "        return response.json()"
   ]
  },
  {
   "cell_type": "code",
   "execution_count": null,
   "metadata": {},
   "outputs": [],
   "source": [
    "sanga = get_player_json(50710)\n",
    "sanga['dateOfBirth']"
   ]
  },
  {
   "cell_type": "code",
   "execution_count": null,
   "metadata": {},
   "outputs": [],
   "source": [
    "age = datetime.strptime(sanga['dateOfBirth'], '%Y-%m-%dT%H:%MZ')"
   ]
  },
  {
   "cell_type": "code",
   "execution_count": null,
   "metadata": {},
   "outputs": [],
   "source": [
    "def get_player_age(player_id):\n",
    "    json = get_player_json(player_id)\n",
    "    age = datetime.strptime(json['dateOfBirth'], '%Y-%m-%dT%H:%MZ')\n",
    "    return age"
   ]
  },
  {
   "cell_type": "code",
   "execution_count": null,
   "metadata": {},
   "outputs": [],
   "source": [
    "get_player_age(50710)"
   ]
  },
  {
   "cell_type": "code",
   "execution_count": null,
   "metadata": {},
   "outputs": [],
   "source": [
    "age = age.replace(year=age.year+30)"
   ]
  },
  {
   "cell_type": "code",
   "execution_count": null,
   "metadata": {},
   "outputs": [],
   "source": [
    "age"
   ]
  },
  {
   "cell_type": "code",
   "execution_count": null,
   "metadata": {},
   "outputs": [],
   "source": [
    "af.get_career_batting_graph(50710, player_age='30:31')"
   ]
  },
  {
   "cell_type": "code",
   "execution_count": null,
   "metadata": {},
   "outputs": [],
   "source": []
  }
 ],
 "metadata": {
  "kernelspec": {
   "display_name": "Python 3.10.1 (conda)",
   "language": "python",
   "name": "python3"
  },
  "language_info": {
   "codemirror_mode": {
    "name": "ipython",
    "version": 3
   },
   "file_extension": ".py",
   "mimetype": "text/x-python",
   "name": "python",
   "nbconvert_exporter": "python",
   "pygments_lexer": "ipython3",
   "version": "3.10.1"
  },
  "orig_nbformat": 4,
  "vscode": {
   "interpreter": {
    "hash": "456b6b94ba0d66ee5bc1d9da3e6e95c84e73f1e1d031ff65315bb403f464dfac"
   }
  }
 },
 "nbformat": 4,
 "nbformat_minor": 2
}
