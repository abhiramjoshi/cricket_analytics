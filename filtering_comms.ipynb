{
 "cells": [
  {
   "cell_type": "code",
   "execution_count": null,
   "metadata": {},
   "outputs": [],
   "source": [
    "import codebase.analysis_functions as af\n",
    "import codebase.web_scrape_functions as wsf\n",
    "from codebase.match_data import MatchData\n",
    "import pandas as pd\n",
    "from utils import logger\n",
    "%load_ext autoreload\n",
    "%autoreload 2"
   ]
  },
  {
   "cell_type": "code",
   "execution_count": null,
   "metadata": {},
   "outputs": [],
   "source": [
    "KOHLI_ID = 253802"
   ]
  },
  {
   "cell_type": "code",
   "execution_count": null,
   "metadata": {},
   "outputs": [],
   "source": [
    "match_list = wsf.get_player_match_list(KOHLI_ID)"
   ]
  },
  {
   "cell_type": "code",
   "execution_count": null,
   "metadata": {},
   "outputs": [],
   "source": [
    "match_1 =  MatchData(match_list[0])"
   ]
  },
  {
   "cell_type": "code",
   "execution_count": null,
   "metadata": {},
   "outputs": [],
   "source": [
    "match_1_comms = pd.DataFrame(match_1.get_full_comms())"
   ]
  },
  {
   "cell_type": "code",
   "execution_count": null,
   "metadata": {},
   "outputs": [],
   "source": [
    "dismissal_commentary = match_1_comms[match_1_comms.dismissalType.notnull()].commentTextItems"
   ]
  },
  {
   "cell_type": "code",
   "execution_count": null,
   "metadata": {},
   "outputs": [],
   "source": [
    "#regex pattern to find cover drives"
   ]
  }
 ],
 "metadata": {
  "interpreter": {
   "hash": "4b197c8d3f1a7b23d60058f5babd2d2b6bf4eef2aa6210788b8639f50a6a79e7"
  },
  "kernelspec": {
   "display_name": "Python 3.9.12 ('cricket_analysis': venv)",
   "language": "python",
   "name": "python3"
  },
  "language_info": {
   "codemirror_mode": {
    "name": "ipython",
    "version": 3
   },
   "file_extension": ".py",
   "mimetype": "text/x-python",
   "name": "python",
   "nbconvert_exporter": "python",
   "pygments_lexer": "ipython3",
   "version": "3.9.12"
  },
  "orig_nbformat": 4
 },
 "nbformat": 4,
 "nbformat_minor": 2
}
