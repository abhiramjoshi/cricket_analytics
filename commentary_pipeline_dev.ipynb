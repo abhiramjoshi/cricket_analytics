{
 "cells": [
  {
   "cell_type": "code",
   "execution_count": null,
   "metadata": {},
   "outputs": [],
   "source": [
    "import codebase.match_data as match\n",
    "import codebase.settings as settings\n",
    "import pandas as pd\n",
    "import numpy as np\n",
    "from pprint import pprint\n",
    "import matplotlib as plt\n",
    "import seaborn as sns\n",
    "import codebase.analysis_functions as af\n",
    "import string\n",
    "import sklearn\n",
    "import numpy as np\n",
    "m  = match.MatchData('1263466')\n",
    "%load_ext autoreload\n",
    "%autoreload 2"
   ]
  },
  {
   "cell_type": "code",
   "execution_count": null,
   "metadata": {},
   "outputs": [],
   "source": [
    "fifth_ashes_test = af.pre_transform_comms(m)\n"
   ]
  },
  {
   "cell_type": "code",
   "execution_count": null,
   "metadata": {},
   "outputs": [],
   "source": [
    "fours = fifth_ashes_test[fifth_ashes_test['isFour'] == True]\n",
    "sixes = fifth_ashes_test[fifth_ashes_test['isSix'] == True]\n",
    "wickets = fifth_ashes_test[fifth_ashes_test['isWicket'] == True]"
   ]
  },
  {
   "cell_type": "code",
   "execution_count": null,
   "metadata": {},
   "outputs": [],
   "source": [
    "fours = fours[['commentTextItems', 'isFour']]\n",
    "sixes = sixes[['commentTextItems', 'isSix']]\n",
    "wickets = wickets[['commentTextItems', 'isWicket']]"
   ]
  },
  {
   "cell_type": "code",
   "execution_count": null,
   "metadata": {},
   "outputs": [],
   "source": [
    "fours.head()"
   ]
  },
  {
   "cell_type": "code",
   "execution_count": null,
   "metadata": {},
   "outputs": [],
   "source": [
    "fours.shape"
   ]
  },
  {
   "cell_type": "code",
   "execution_count": null,
   "metadata": {},
   "outputs": [],
   "source": [
    "def verify_if_string_exists(string, value):\n",
    "    if string in value:\n",
    "        return True\n",
    "    return False\n",
    "\n",
    "def verify_fours(value):\n",
    "    return verify_if_string_exists('four', value)\n",
    "\n",
    "def verify_six(value):\n",
    "    return verify_if_string_exists('six', value)\n",
    "\n",
    "def verify_wicket(value):\n",
    "    return verify_if_string_exists('wicket', value)"
   ]
  },
  {
   "cell_type": "code",
   "execution_count": null,
   "metadata": {},
   "outputs": [],
   "source": [
    "fours['verify'] = fours['commentTextItems'].map(verify_fours)"
   ]
  },
  {
   "cell_type": "code",
   "execution_count": null,
   "metadata": {},
   "outputs": [],
   "source": [
    "fours.head()"
   ]
  },
  {
   "cell_type": "code",
   "execution_count": null,
   "metadata": {},
   "outputs": [],
   "source": [
    "fours[fours['verify'] == True]"
   ]
  },
  {
   "cell_type": "code",
   "execution_count": null,
   "metadata": {},
   "outputs": [],
   "source": [
    "sixes['verify'] = sixes['commentTextItems'].map(verify_six)\n",
    "wickets['verify'] = wickets['commentTextItems'].map(verify_wicket)"
   ]
  },
  {
   "cell_type": "code",
   "execution_count": null,
   "metadata": {},
   "outputs": [],
   "source": [
    "sixes[sixes['verify'] == True]"
   ]
  },
  {
   "cell_type": "code",
   "execution_count": null,
   "metadata": {},
   "outputs": [],
   "source": [
    "wickets[wickets['verify'] == True]"
   ]
  },
  {
   "cell_type": "code",
   "execution_count": null,
   "metadata": {},
   "outputs": [],
   "source": [
    "def create_dictionary(words, reverse = False):\n",
    "    dictionary = {}\n",
    "    for word in words:\n",
    "        if word in dictionary:\n",
    "            dictionary[word] += 1\n",
    "        else:\n",
    "            dictionary[word] = 1\n",
    "    return dict(sorted(dictionary.items(), key=lambda item: item[1], reverse= not reverse))"
   ]
  },
  {
   "cell_type": "code",
   "execution_count": null,
   "metadata": {},
   "outputs": [],
   "source": [
    "fours_words = []\n",
    "for entry in fours['commentTextItems']:\n",
    "    entry = entry.translate(str.maketrans('', '', string.punctuation))\n",
    "    entry = entry.split()\n",
    "    fours_words += [e.lower() for e in entry]"
   ]
  },
  {
   "cell_type": "code",
   "execution_count": null,
   "metadata": {},
   "outputs": [],
   "source": [
    "fours_dict = create_dictionary(fours_words)\n",
    "fours_dict"
   ]
  },
  {
   "cell_type": "code",
   "execution_count": null,
   "metadata": {},
   "outputs": [],
   "source": [
    "fours_dict = af.create_vocabulary(fours, m)"
   ]
  },
  {
   "cell_type": "code",
   "execution_count": null,
   "metadata": {},
   "outputs": [],
   "source": [
    "wickets_dict = af.create_vocabulary(wickets, m)\n",
    "wickets_dict"
   ]
  },
  {
   "cell_type": "code",
   "execution_count": null,
   "metadata": {},
   "outputs": [],
   "source": [
    "player_list = af.get_player_map(m, name_tag='known_as').values()\n",
    "list(player_list)\n",
    "player_list = [name.lower() for player in player_list for name in player.split()]\n",
    "player_list"
   ]
  },
  {
   "cell_type": "code",
   "execution_count": null,
   "metadata": {},
   "outputs": [],
   "source": [
    "sixes_vocab = af.create_vocabulary(sixes, m)"
   ]
  },
  {
   "cell_type": "code",
   "execution_count": null,
   "metadata": {},
   "outputs": [],
   "source": [
    "sixes_vocab"
   ]
  },
  {
   "cell_type": "code",
   "execution_count": null,
   "metadata": {},
   "outputs": [],
   "source": [
    "sixes_freq = pd.Series(sixes_vocab)\n",
    "sixes_freq"
   ]
  },
  {
   "cell_type": "code",
   "execution_count": null,
   "metadata": {},
   "outputs": [],
   "source": [
    "sixes_freq = af.series_to_df(sixes_freq, ['word', 'freq'])"
   ]
  },
  {
   "cell_type": "code",
   "execution_count": null,
   "metadata": {},
   "outputs": [],
   "source": [
    "af.graph_seaborn_barplot(sixes_freq, x = sixes_freq['word'], y = sixes_freq['freq'])"
   ]
  },
  {
   "cell_type": "code",
   "execution_count": null,
   "metadata": {},
   "outputs": [],
   "source": [
    "def graph_vocab(vocab_dict):\n",
    "    vocab_dict = pd.Series(vocab_dict)\n",
    "    vocab_dict = af.series_to_df(vocab_dict, ['Words', 'Frequency'])\n",
    "    af.graph_seaborn_barplot(vocab_dict, vocab_dict['Words'], vocab_dict['Frequency'])"
   ]
  },
  {
   "cell_type": "code",
   "execution_count": null,
   "metadata": {},
   "outputs": [],
   "source": [
    "# graph_vocab(fours_dict)"
   ]
  },
  {
   "cell_type": "code",
   "execution_count": null,
   "metadata": {},
   "outputs": [],
   "source": [
    "# graph_vocab(wickets_dict)"
   ]
  },
  {
   "cell_type": "code",
   "execution_count": null,
   "metadata": {},
   "outputs": [],
   "source": [
    "test_commentary = fifth_ashes_test.loc[:, ['commentTextItems', 'isFour', 'isSix', 'isWicket']]"
   ]
  },
  {
   "cell_type": "code",
   "execution_count": null,
   "metadata": {},
   "outputs": [],
   "source": [
    "test_commentary.head()"
   ]
  },
  {
   "cell_type": "code",
   "execution_count": null,
   "metadata": {},
   "outputs": [],
   "source": [
    "test_commentary.loc[:, 'noEvent'] = False"
   ]
  },
  {
   "cell_type": "code",
   "execution_count": null,
   "metadata": {},
   "outputs": [],
   "source": [
    "for index, row in test_commentary.iterrows():\n",
    "    print(int(row.loc[['isFour', 'isSix', 'isWicket']].max()))"
   ]
  },
  {
   "cell_type": "code",
   "execution_count": null,
   "metadata": {},
   "outputs": [],
   "source": [
    "for index, row in test_commentary.iterrows():\n",
    "    if row['isWicket'] == False:\n",
    "        if row['isFour'] == False:\n",
    "            if row['isSix'] == False:\n",
    "                test_commentary.at[index, 'noEvent'] = True"
   ]
  },
  {
   "cell_type": "code",
   "execution_count": null,
   "metadata": {},
   "outputs": [],
   "source": [
    "test_commentary.tail()"
   ]
  },
  {
   "cell_type": "code",
   "execution_count": null,
   "metadata": {},
   "outputs": [],
   "source": [
    "test_commentary_categorial = test_commentary[['isWicket', 'isFour', 'isSix', 'noEvent']].idxmax(axis=1)\n",
    "test_commentary_categorial.tail()"
   ]
  },
  {
   "cell_type": "code",
   "execution_count": null,
   "metadata": {},
   "outputs": [],
   "source": [
    "test_commentary_categorial = test_commentary_categorial.to_frame(name='Ball_Event')\n",
    "test_commentary_categorial['commentTextItems'] = test_commentary['commentTextItems']"
   ]
  },
  {
   "cell_type": "code",
   "execution_count": null,
   "metadata": {},
   "outputs": [],
   "source": [
    "test_commentary_categorial.tail()"
   ]
  },
  {
   "cell_type": "code",
   "execution_count": null,
   "metadata": {},
   "outputs": [],
   "source": [
    "def categorical_mapping(value):\n",
    "    mapping = {\n",
    "        'isFour': 'four',\n",
    "        'isSix': 'six',\n",
    "        'isWicket': 'wicket',\n",
    "        'noEvent': 'no-event'\n",
    "    }\n",
    "    try:\n",
    "        return mapping[value]\n",
    "    except KeyError:\n",
    "        return value"
   ]
  },
  {
   "cell_type": "code",
   "execution_count": null,
   "metadata": {},
   "outputs": [],
   "source": [
    "test_commentary_categorial['Ball_Event'] = test_commentary_categorial['Ball_Event'].map(categorical_mapping)\n",
    "test_commentary_categorial.tail()"
   ]
  },
  {
   "cell_type": "code",
   "execution_count": null,
   "metadata": {},
   "outputs": [],
   "source": [
    "train_data = list(test_commentary_categorial['commentTextItems'])\n",
    "train_data[:5]\n"
   ]
  },
  {
   "cell_type": "code",
   "execution_count": null,
   "metadata": {},
   "outputs": [],
   "source": [
    "train_labels = list(test_commentary_categorial['Ball_Event'])\n",
    "train_labels"
   ]
  },
  {
   "cell_type": "code",
   "execution_count": null,
   "metadata": {},
   "outputs": [],
   "source": [
    "train_label_names = set(train_labels)\n",
    "train_label_names"
   ]
  },
  {
   "cell_type": "code",
   "execution_count": null,
   "metadata": {},
   "outputs": [],
   "source": [
    "training_set = sklearn.utils.Bunch(data = train_data, labels = train_labels, names = train_label_names)\n",
    "\n"
   ]
  },
  {
   "cell_type": "code",
   "execution_count": null,
   "metadata": {},
   "outputs": [],
   "source": [
    "from sklearn.feature_extraction.text import CountVectorizer\n",
    "\n",
    "count_vect = CountVectorizer()\n",
    "x_train = count_vect.fit_transform(training_set.data)\n",
    "x_train.shape"
   ]
  },
  {
   "cell_type": "code",
   "execution_count": null,
   "metadata": {},
   "outputs": [],
   "source": [
    "count_vect.vocabulary_.get('bat')"
   ]
  },
  {
   "cell_type": "code",
   "execution_count": null,
   "metadata": {},
   "outputs": [],
   "source": [
    "count_vect.vocabulary_"
   ]
  },
  {
   "cell_type": "code",
   "execution_count": null,
   "metadata": {},
   "outputs": [],
   "source": [
    "def cat_to_num(labels, label_names):\n",
    "    mapping = {cat:i for i,cat in enumerate(label_names)}\n",
    "    labels_nums = [mapping[label] for label in labels]\n",
    "    return labels_nums"
   ]
  },
  {
   "cell_type": "code",
   "execution_count": null,
   "metadata": {},
   "outputs": [],
   "source": [
    "training_set.labels = cat_to_num(training_set.labels, training_set.names)\n",
    "training_set.labels[-5:]\n"
   ]
  },
  {
   "cell_type": "code",
   "execution_count": null,
   "metadata": {},
   "outputs": [],
   "source": [
    "training_set.labels[-5:]"
   ]
  },
  {
   "cell_type": "code",
   "execution_count": null,
   "metadata": {},
   "outputs": [],
   "source": [
    "training_set.labels = np.array(training_set.labels)\n",
    "training_set.labels[-5:]"
   ]
  },
  {
   "cell_type": "code",
   "execution_count": null,
   "metadata": {},
   "outputs": [],
   "source": [
    "from sklearn.feature_extraction.text import TfidfTransformer\n",
    "\n",
    "tf_transformer  = TfidfTransformer()\n",
    "x_train_tfidf = tf_transformer.fit_transform(x_train)\n",
    "x_train_tfidf.shape"
   ]
  },
  {
   "cell_type": "markdown",
   "metadata": {},
   "source": []
  },
  {
   "cell_type": "code",
   "execution_count": null,
   "metadata": {},
   "outputs": [],
   "source": [
    "test_commentary = fifth_ashes_test.loc[:, ['commentTextItems', 'isFour', 'isSix', 'isWicket']]"
   ]
  },
  {
   "cell_type": "code",
   "execution_count": null,
   "metadata": {},
   "outputs": [],
   "source": [
    "test_commentary_labels = af.create_labels(test_commentary, ['isFour', 'isSix', 'isWicket'], 'noEvent')\n",
    "test_commentary_labels.tail()"
   ]
  },
  {
   "cell_type": "code",
   "execution_count": null,
   "metadata": {},
   "outputs": [],
   "source": [
    "train_set = af.package_data(test_commentary_labels['commentTextItems'], test_commentary_labels['labels'])"
   ]
  },
  {
   "cell_type": "code",
   "execution_count": null,
   "metadata": {},
   "outputs": [],
   "source": [
    "train_set.data[-5:]"
   ]
  },
  {
   "cell_type": "code",
   "execution_count": null,
   "metadata": {},
   "outputs": [],
   "source": [
    "train_set.labels[-5:]"
   ]
  },
  {
   "cell_type": "code",
   "execution_count": null,
   "metadata": {},
   "outputs": [],
   "source": [
    "train_set.label_names"
   ]
  },
  {
   "cell_type": "code",
   "execution_count": null,
   "metadata": {},
   "outputs": [],
   "source": [
    "fifth_ashes_test.columns"
   ]
  },
  {
   "cell_type": "code",
   "execution_count": null,
   "metadata": {},
   "outputs": [],
   "source": [
    "fifth_ashes_test['batsmanRuns'].head()"
   ]
  },
  {
   "cell_type": "code",
   "execution_count": null,
   "metadata": {},
   "outputs": [],
   "source": [
    "singles = fifth_ashes_test[fifth_ashes_test['batsmanRuns'] == 1]\n",
    "doubles = fifth_ashes_test[fifth_ashes_test['batsmanRuns'] == 2]\n",
    "threes = fifth_ashes_test[fifth_ashes_test['batsmanRuns'] == 3]\n",
    "fives = fifth_ashes_test[fifth_ashes_test['batsmanRuns'] == 5]"
   ]
  },
  {
   "cell_type": "code",
   "execution_count": null,
   "metadata": {},
   "outputs": [],
   "source": [
    "singles['commentTextItems']"
   ]
  },
  {
   "cell_type": "code",
   "execution_count": null,
   "metadata": {},
   "outputs": [],
   "source": [
    "doubles['commentTextItems'].size"
   ]
  },
  {
   "cell_type": "code",
   "execution_count": null,
   "metadata": {},
   "outputs": [],
   "source": [
    "threes['commentTextItems'].iloc[3]"
   ]
  },
  {
   "cell_type": "code",
   "execution_count": null,
   "metadata": {},
   "outputs": [],
   "source": [
    "dots = fifth_ashes_test[fifth_ashes_test['batsmanRuns'] == 0]"
   ]
  },
  {
   "cell_type": "code",
   "execution_count": null,
   "metadata": {},
   "outputs": [],
   "source": [
    "fifth_ashes_test.groupby('batsmanRuns').count()/fifth_ashes_test.shape[0]"
   ]
  },
  {
   "cell_type": "code",
   "execution_count": null,
   "metadata": {},
   "outputs": [],
   "source": [
    "fifth_ashes_test.shape"
   ]
  },
  {
   "cell_type": "code",
   "execution_count": null,
   "metadata": {},
   "outputs": [],
   "source": [
    "dots = fifth_ashes_test['batsmanRuns'] == 0"
   ]
  },
  {
   "cell_type": "code",
   "execution_count": null,
   "metadata": {},
   "outputs": [],
   "source": [
    "dots.head()"
   ]
  },
  {
   "cell_type": "code",
   "execution_count": null,
   "metadata": {},
   "outputs": [],
   "source": [
    "af.createDummies(fifth_ashes_test)"
   ]
  },
  {
   "cell_type": "code",
   "execution_count": null,
   "metadata": {},
   "outputs": [],
   "source": [
    "fifth_ashes_test.columns"
   ]
  },
  {
   "cell_type": "code",
   "execution_count": null,
   "metadata": {},
   "outputs": [],
   "source": [
    "fifth_ashes_test_categorical = af.create_labels(fifth_ashes_test, ['isFour', 'isSix', 'isWicket', 'isOne', 'isTwo', 'isThree'], 'noEvent')"
   ]
  },
  {
   "cell_type": "code",
   "execution_count": null,
   "metadata": {},
   "outputs": [],
   "source": []
  }
 ],
 "metadata": {
  "interpreter": {
   "hash": "59f9c5f52e2c72815d252e4881b77c441e97a88e2a32b3ec6c5bbc5d0987ed4f"
  },
  "kernelspec": {
   "display_name": "Python 3.9.5 ('base')",
   "language": "python",
   "name": "python3"
  },
  "language_info": {
   "codemirror_mode": {
    "name": "ipython",
    "version": 3
   },
   "file_extension": ".py",
   "mimetype": "text/x-python",
   "name": "python",
   "nbconvert_exporter": "python",
   "pygments_lexer": "ipython3",
   "version": "3.10.1"
  },
  "orig_nbformat": 4
 },
 "nbformat": 4,
 "nbformat_minor": 2
}
