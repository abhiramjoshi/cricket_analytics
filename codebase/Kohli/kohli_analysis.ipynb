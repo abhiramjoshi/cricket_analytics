{
 "cells": [
  {
   "cell_type": "code",
   "execution_count": null,
   "metadata": {},
   "outputs": [],
   "source": [
    "import codebase.web_scrape_functions as wsf\n",
    "import codebase.analysis_functions as af\n",
    "from codebase import match_data\n",
    "import pandas as pd\n",
    "import warnings\n",
    "warnings.simplefilter(action='ignore', category=FutureWarning)\n",
    "import utils\n",
    "from utils import logger\n",
    "import os\n",
    "import logging\n",
    "import matplotlib\n",
    "import matplotlib.pyplot as plt\n",
    "import seaborn as sns\n",
    "import numpy as np\n",
    "import codebase.graphing_functions as gf\n",
    "from codebase.settings import CAREERS\n",
    "\n",
    "%load_ext autoreload\n",
    "%autoreload 2\n",
    "logger.handlers[1].setLevel(logging.INFO)\n",
    "# logger.disabled = True\n",
    "pd.get_option(\"display.max_columns\")"
   ]
  },
  {
   "cell_type": "code",
   "execution_count": null,
   "metadata": {},
   "outputs": [],
   "source": [
    "PLAYER_ID = '253802'\n",
    "ROOT_PLAYER_ID = '303669'\n",
    "WILLIAMSON_PLAYER_ID = '277906'\n",
    "SPD_SMITH_ID = '267192'"
   ]
  },
  {
   "cell_type": "code",
   "execution_count": null,
   "metadata": {},
   "outputs": [],
   "source": [
    "test_match_list = wsf.player_match_list(PLAYER_ID, _format='test')\n",
    "test_match_list"
   ]
  },
  {
   "cell_type": "code",
   "execution_count": null,
   "metadata": {},
   "outputs": [],
   "source": [
    "all_totals = af.get_cricket_totals(KOHLI_ID, matches=match_list, _type='bat', by_innings=True, is_object_id=True)"
   ]
  },
  {
   "cell_type": "code",
   "execution_count": null,
   "metadata": {},
   "outputs": [],
   "source": [
    "import math\n",
    "dismissals = {}\n",
    "for inning in all_totals:\n",
    "    try:\n",
    "        dismissals[inning['how_out']] += 1\n",
    "    except KeyError:\n",
    "        dismissals[inning['how_out']] = 1"
   ]
  },
  {
   "cell_type": "code",
   "execution_count": null,
   "metadata": {},
   "outputs": [],
   "source": [
    "# Breakdown of dismissals, we want to see sum how Kohli has got out over time and graph this.\n",
    "# Need to make individuals 'lines' for each dismissal type. Lets just first start with getting Kohli's test innings and then summing dismissals.\n",
    "match_list = wsf.player_match_list(KOHLI_ID)\n",
    "bad_forma_matches = match_list[84:]\n"
   ]
  },
  {
   "cell_type": "code",
   "execution_count": null,
   "metadata": {},
   "outputs": [],
   "source": [
    "%%script false --no-raise-error\n",
    "contributions = []\n",
    "for match_id in test_match_list:\n",
    "    match = match_data.MatchData(match_id)\n",
    "    contribution = af._cricket_totals(PLAYER_ID, match, _type='bat', by_innings=True, is_object_id=True)\n",
    "    for i,inning in enumerate(contribution['bat']):\n",
    "        contributions.append({**inning, **{key:contribution[key] for key in contribution.keys() if key not in ['bat', 'bowl']}, **{'inning': i}})\n",
    "\n",
    "contributions[-5:]"
   ]
  },
  {
   "cell_type": "code",
   "execution_count": null,
   "metadata": {},
   "outputs": [],
   "source": [
    "#innings = [inning for match in contributions for inning in match]\n",
    "#innings[:5]"
   ]
  },
  {
   "cell_type": "code",
   "execution_count": null,
   "metadata": {},
   "outputs": [],
   "source": [
    "%%script false --no-raise-error\n",
    "innings_df = pd.DataFrame(contributions)\n",
    "innings_df.head()\n",
    "innings_df.shape"
   ]
  },
  {
   "cell_type": "markdown",
   "metadata": {},
   "source": [
    "Now we will try to graph the running average on this graph. "
   ]
  },
  {
   "cell_type": "code",
   "execution_count": null,
   "metadata": {},
   "outputs": [],
   "source": [
    "%%script false --no-raise-error\n",
    "running_average = []\n",
    "\n",
    "total_runs = 0\n",
    "out = 0\n",
    "\n",
    "for i,innings in enumerate(zip(innings_df.runs, innings_df.not_out)):\n",
    "    total_runs += innings[0]\n",
    "    if innings[1] == False:\n",
    "        out += 1\n",
    "    try:\n",
    "        running_average.append(round(total_runs/out,2))\n",
    "    except ZeroDivisionError:\n",
    "        running_average.append(None)\n",
    "\n",
    "running_average"
   ]
  },
  {
   "cell_type": "markdown",
   "metadata": {},
   "source": [
    "We now can map the average of the last X innings, this is the 'form guide'"
   ]
  },
  {
   "cell_type": "code",
   "execution_count": null,
   "metadata": {},
   "outputs": [],
   "source": [
    "%%script false --no-raise-error\n",
    "last_x_average = []\n",
    "\n",
    "window_runs = 0\n",
    "window_out = 0\n",
    "\n",
    "#moving window of length x\n",
    "\n",
    "window_size = 12\n",
    "\n",
    "for i,innings in enumerate(zip(innings_df.runs, innings_df.not_out)):\n",
    "    if i>=window_size:\n",
    "        window_runs -= innings_df.runs.iloc[i-window_size]\n",
    "        if innings_df.not_out.iloc[i-window_size] == False:\n",
    "            window_out -= 1\n",
    "    \n",
    "    window_runs += innings[0]\n",
    "    if innings[1] == False:\n",
    "        window_out += 1\n",
    "    try:\n",
    "        last_x_average.append(round(window_runs/window_out,2))\n",
    "    except ZeroDivisionError:\n",
    "        last_x_average.append(None)\n",
    "\n",
    "last_x_average"
   ]
  },
  {
   "cell_type": "code",
   "execution_count": null,
   "metadata": {},
   "outputs": [],
   "source": [
    "%%script false --no-raise-error\n",
    "y_range = [0, max(innings_df.runs) + 20]\n",
    "\n",
    "fig, ax1 = plt.subplots(figsize=(18,10))\n",
    "#sns.set_theme()\n",
    "sns.lineplot(data = {'Average': running_average, f'Last {window_size} Innings': last_x_average}, sort = False, ax=ax1, palette='rocket')\n",
    "\n",
    "ax1.set_ylim(y_range)\n",
    "\n",
    "ax2 = ax1.twinx()\n",
    "\n",
    "sns.barplot(data = innings_df, x=innings_df.index, y=innings_df.runs, alpha=0.5, ax=ax2, hue=innings_df.continent, palette='mako', dodge=False)\n",
    "ax2.set_ylim(y_range)"
   ]
  },
  {
   "cell_type": "code",
   "execution_count": null,
   "metadata": {},
   "outputs": [],
   "source": [
    "%%script false --no-raise-error\n",
    "SPD_SMITH_TEST_MATCHES = wsf.player_match_list(SPD_SMITH_ID)\n",
    "spd_smith_contributions = af.get_cricket_totals(SPD_SMITH_ID, SPD_SMITH_TEST_MATCHES, 'bat', True, True)"
   ]
  },
  {
   "cell_type": "code",
   "execution_count": null,
   "metadata": {},
   "outputs": [],
   "source": [
    "%%script false --no-raise-error\n",
    "# spd_smith_contributions[-5:]"
   ]
  },
  {
   "cell_type": "code",
   "execution_count": null,
   "metadata": {},
   "outputs": [],
   "source": [
    "%%script false --no-raise-error\n",
    "spd_innings = pd.DataFrame(spd_smith_contributions)\n",
    "spd_innings.tail()"
   ]
  },
  {
   "cell_type": "code",
   "execution_count": null,
   "metadata": {},
   "outputs": [],
   "source": [
    "%%script false --no-raise-error\n",
    "spd_ave = af.get_running_average(SPD_SMITH_ID)\n",
    "spd_recent_form = af.get_recent_form_average(SPD_SMITH_ID, window_size=12)"
   ]
  },
  {
   "cell_type": "code",
   "execution_count": null,
   "metadata": {},
   "outputs": [],
   "source": [
    "%%script false --no-raise-error\n",
    "y_range = [0, max(spd_innings.runs) + 20]\n",
    "\n",
    "fig, ax1 = plt.subplots(figsize=(18,10))\n",
    "#sns.set_theme()\n",
    "sns.lineplot(data = {'Average': spd_ave, f'Last {window_size} Innings': spd_recent_form}, sort = False, ax=ax1, palette='rocket')\n",
    "\n",
    "ax1.set_ylim(y_range)\n",
    "\n",
    "ax2 = ax1.twinx()\n",
    "\n",
    "sns.barplot(data = innings_df, x=spd_innings.index, y=spd_innings.runs, alpha=0.5, ax=ax2, hue=spd_innings.continent, palette='mako', dodge=False)\n",
    "ax2.set_ylim(y_range)"
   ]
  },
  {
   "cell_type": "code",
   "execution_count": null,
   "metadata": {},
   "outputs": [],
   "source": [
    "%%script false --no-raise-error\n",
    "contributions = af.get_player_contributions(PLAYER_ID, test_match_list, 'bat', False, True)"
   ]
  },
  {
   "cell_type": "code",
   "execution_count": null,
   "metadata": {},
   "outputs": [],
   "source": [
    "%%script false --no-raise-error\n",
    "contributions[-5:]"
   ]
  },
  {
   "cell_type": "code",
   "execution_count": null,
   "metadata": {},
   "outputs": [],
   "source": [
    "%%script false --no-raise-error\n",
    "innings = af.get_cricket_totals(PLAYER_ID, test_match_list, 'bat', True, True)\n",
    "innings[-5:]"
   ]
  },
  {
   "cell_type": "code",
   "execution_count": null,
   "metadata": {},
   "outputs": [],
   "source": [
    "#Williamson\n",
    "#af.get_career_batting_graph(277906)"
   ]
  },
  {
   "cell_type": "code",
   "execution_count": null,
   "metadata": {},
   "outputs": [],
   "source": [
    "#Root\n",
    "#af.get_career_batting_graph(303669)"
   ]
  },
  {
   "cell_type": "code",
   "execution_count": null,
   "metadata": {},
   "outputs": [],
   "source": [
    "#Smith\n",
    "# af.get_career_batting_graph(SPD_SMITH_ID)"
   ]
  },
  {
   "cell_type": "code",
   "execution_count": null,
   "metadata": {},
   "outputs": [],
   "source": [
    "#Kohli\n",
    "# af.get_career_batting_graph(PLAYER_ID, dates='2017-01-01:')"
   ]
  },
  {
   "cell_type": "code",
   "execution_count": null,
   "metadata": {},
   "outputs": [],
   "source": [
    "#Cook\n",
    "gf.get_career_batting_graph(11728, player_age='27:33')"
   ]
  },
  {
   "cell_type": "code",
   "execution_count": null,
   "metadata": {},
   "outputs": [],
   "source": [
    "%%script false --no-raise-error\n",
    "\n",
    "sns.set_theme()\n",
    "innings_df.head()"
   ]
  },
  {
   "cell_type": "code",
   "execution_count": null,
   "metadata": {},
   "outputs": [],
   "source": [
    "%%script false --no-raise-error\n",
    "fig_dims = (15,10)\n",
    "fig,ax = plt.subplots(figsize=fig_dims);\n",
    "bar = sns.barplot(innings_df.index, innings_df.runs, palette='mako');\n",
    "x_dates = innings_df.date.dt.strftime('%d-%m-%Y')\n",
    "bar.set_xticklabels(labels=x_dates, rotation=90);\n",
    "\n",
    "_ = plt.setp(ax.patches, linewidth=0)\n",
    "ax.xaxis.set_major_locator(plt.MaxNLocator(5))"
   ]
  },
  {
   "cell_type": "code",
   "execution_count": null,
   "metadata": {},
   "outputs": [],
   "source": [
    "top_players = wsf.read_statsguru('https://stats.espncricinfo.com/ci/engine/stats/index.html?class=1;filter=advanced;orderby=batting_average;qualmin1=30;qualval1=matches;template=results;type=batting', table_name='Overall figures')\n"
   ]
  },
  {
   "cell_type": "code",
   "execution_count": null,
   "metadata": {},
   "outputs": [],
   "source": [
    "top_players = pd.DataFrame(top_players[0])"
   ]
  },
  {
   "cell_type": "code",
   "execution_count": null,
   "metadata": {},
   "outputs": [],
   "source": [
    "all_dismissals"
   ]
  },
  {
   "cell_type": "code",
   "execution_count": null,
   "metadata": {},
   "outputs": [],
   "source": [
    "count = 0\n",
    "for dismissal in all_dismissals:\n",
    "    for word in ['drive', 'cover', 'defending', 'defence', 'outside']:\n",
    "        if word in dismissal[0].lower():\n",
    "            if 'run out' not in dismissal[1].lower():\n",
    "                print(dismissal[0])\n",
    "                print()\n",
    "                count += 1\n",
    "                break\n",
    "\n",
    "print(f'Dismissals that include key-words: {count}')\n",
    "print(f'Dismissals that include key-words: {count/len(all_dismissals)}')"
   ]
  },
  {
   "cell_type": "code",
   "execution_count": null,
   "metadata": {},
   "outputs": [],
   "source": [
    "len(all_dismissals)"
   ]
  },
  {
   "cell_type": "code",
   "execution_count": null,
   "metadata": {},
   "outputs": [],
   "source": [
    "comms_pre_slump = af.get_player_contributions(KOHLI_ID, match_list[:84], 'bat', True, True)\n",
    "all_every_dismissals = []\n",
    "for match in comms_pre_slump:\n",
    "    comms = match.iloc[-1]\n",
    "    \n",
    "    if comms.dismissalText not in [None, 'null', 'NaN', 'None']:\n",
    "        #print(comms.dismissalText)\n",
    "        all_every_dismissals.append((comms.commentTextItems, comms.dismissalText))\n",
    "    else:\n",
    "        print(comms.commentTextItems)\n",
    "\n",
    "every_count = 0\n",
    "for dismissal in all_every_dismissals:\n",
    "    for word in ['drive', 'cover', 'defending', 'defence', 'outside']:\n",
    "        if word in dismissal[0].lower():\n",
    "            if 'run out' not in dismissal[1].lower():\n",
    "                print(dismissal[0])\n",
    "                print()\n",
    "                every_count += 1\n",
    "                break\n",
    "\n",
    "print(f'Dismissals that include key-words: {every_count}')\n",
    "print(f'Dismissals that include key-words: {every_count/len(all_every_dismissals)}')"
   ]
  },
  {
   "cell_type": "code",
   "execution_count": null,
   "metadata": {},
   "outputs": [],
   "source": [
    "def search_for_keywords(text_items, keywords = [], exclude_words = [], return_matching = False):\n",
    "    count = 0\n",
    "    matching = []\n",
    "    for text in text_items:\n",
    "        for word in keywords:\n",
    "            if word in text.lower():\n",
    "                exclude = False\n",
    "                for e_word in exclude_words:\n",
    "                    if e_word in text.lower():\n",
    "                        exclude = True\n",
    "                        break\n",
    "                if exclude:\n",
    "                    break\n",
    "                count += 1\n",
    "                matching.append(text)\n",
    "                break\n",
    "    if return_matching:\n",
    "        return count, matching\n",
    "    return count"
   ]
  },
  {
   "cell_type": "code",
   "execution_count": null,
   "metadata": {},
   "outputs": [],
   "source": [
    "all_dismissals = [dismissal[0] + ', ' + dismissal[1] for dismissal in all_dismissals]"
   ]
  },
  {
   "cell_type": "code",
   "execution_count": null,
   "metadata": {},
   "outputs": [],
   "source": [
    "count, matching = search_for_keywords(all_dismissals, ['drive', 'cover', 'defending', 'defence', 'outside'], exclude_words=['run out'], return_matching=True)"
   ]
  },
  {
   "cell_type": "code",
   "execution_count": null,
   "metadata": {},
   "outputs": [],
   "source": [
    "count_oe, matching_oe = search_for_keywords(all_dismissals, ['outside off', 'outside edge', 'cover drive', 'drive'], exclude_words=['inside', 'run out'], return_matching=True)"
   ]
  },
  {
   "cell_type": "code",
   "execution_count": null,
   "metadata": {},
   "outputs": [],
   "source": [
    "def get_dismissal_descriptions(commentary):\n",
    "    all_dismissals = []\n",
    "    for match in commentary:\n",
    "        comms = match.iloc[-1]\n",
    "        \n",
    "        if comms.dismissalText not in [None, 'null', 'NaN', 'None']:\n",
    "            #print(comms.dismissalText)\n",
    "            all_dismissals.append((comms.commentTextItems, comms.dismissalText))\n",
    "        #else:\n",
    "            #print(comms.commentTextItems)\n",
    "    return all_dismissals"
   ]
  },
  {
   "cell_type": "code",
   "execution_count": null,
   "metadata": {},
   "outputs": [],
   "source": [
    "top_players.Player = [wsf.player_id_from_link(player, playername=False)[1] for player in top_players.Player]"
   ]
  },
  {
   "cell_type": "code",
   "execution_count": null,
   "metadata": {},
   "outputs": [],
   "source": [
    "top_players[top_players.Player == '267192']"
   ]
  },
  {
   "cell_type": "code",
   "execution_count": null,
   "metadata": {},
   "outputs": [],
   "source": [
    "%%script false --no-raise-error\n",
    "match_list = []\n",
    "for player in top_players.Player:\n",
    "    match_list += wsf.player_match_list(player)"
   ]
  },
  {
   "cell_type": "code",
   "execution_count": null,
   "metadata": {},
   "outputs": [],
   "source": [
    "# set([int(id) for id in match_list])"
   ]
  },
  {
   "cell_type": "code",
   "execution_count": null,
   "metadata": {},
   "outputs": [],
   "source": [
    "# len(match_list)"
   ]
  },
  {
   "cell_type": "code",
   "execution_count": null,
   "metadata": {},
   "outputs": [],
   "source": [
    "%%script false --no-raise-error\n",
    "recent_form = {}\n",
    "for player in [PLAYER_ID, SPD_SMITH_ID, ROOT_PLAYER_ID, WILLIAMSON_PLAYER_ID]:\n",
    "    player_match_list = wsf.player_match_list(player)\n",
    "    player_innings_df = af.get_cricket_totals(player, player_match_list, _type='bat', by_innings=True, is_object_id=True)\n",
    "    player_innings_df = pd.DataFrame(player_innings_df)\n",
    "    recent_form[player] = af.calculate_recent_form_average(player_innings_df)"
   ]
  },
  {
   "cell_type": "code",
   "execution_count": null,
   "metadata": {},
   "outputs": [],
   "source": [
    "%%script false --no-raise-error\n",
    "top_players.Player"
   ]
  },
  {
   "cell_type": "code",
   "execution_count": null,
   "metadata": {},
   "outputs": [],
   "source": [
    "all_recent_form = utils.load_data('all_recent_form','dict',file_ext='p')"
   ]
  },
  {
   "cell_type": "code",
   "execution_count": null,
   "metadata": {},
   "outputs": [],
   "source": [
    "all_running_ave  = utils.load_data('all_running_ave','dict',file_ext='p')"
   ]
  },
  {
   "cell_type": "code",
   "execution_count": null,
   "metadata": {},
   "outputs": [],
   "source": [
    "all_running_ave.keys()"
   ]
  },
  {
   "cell_type": "code",
   "execution_count": null,
   "metadata": {},
   "outputs": [],
   "source": [
    "problem_players = []\n",
    "for player in all_recent_form:\n",
    "    try:\n",
    "        [int(x) for x in all_recent_form[player]]\n",
    "    except (ValueError, TypeError):\n",
    "        problem_players.append(player)\n",
    "\n",
    "problem_players\n",
    "        "
   ]
  },
  {
   "cell_type": "code",
   "execution_count": null,
   "metadata": {},
   "outputs": [],
   "source": [
    "full_df = af.normalized_career_length(all_recent_form)"
   ]
  },
  {
   "cell_type": "code",
   "execution_count": null,
   "metadata": {},
   "outputs": [],
   "source": [
    "import math\n",
    "dismissals = {}\n",
    "for inning in all_totals:\n",
    "    try:\n",
    "        dismissals[inning['how_out']] += 1\n",
    "    except KeyError:\n",
    "        dismissals[inning['how_out']] = 1"
   ]
  },
  {
   "cell_type": "code",
   "execution_count": null,
   "metadata": {},
   "outputs": [],
   "source": [
    "dismissals"
   ]
  },
  {
   "cell_type": "code",
   "execution_count": null,
   "metadata": {},
   "outputs": [],
   "source": [
    "test = [{'how_out':'caught'},{'how_out':'caught'},{'how_out':'caught'},{'how_out':'caught'},{'how_out':'caught'},{'how_out':'caught'}]"
   ]
  },
  {
   "cell_type": "code",
   "execution_count": null,
   "metadata": {},
   "outputs": [],
   "source": [
    "dismissal_histories = {}\n",
    "for i, inning in enumerate(all_totals):\n",
    "    try:\n",
    "        dismissal_histories[inning['how_out']] += [dismissal_histories[inning['how_out']][-1]+1]\n",
    "    except KeyError:\n",
    "        dismissal_histories[inning['how_out']] = [0]*(i) + [1]        \n",
    "    for d in dismissal_histories:\n",
    "        if d != inning['how_out']:\n",
    "            dismissal_histories[d] += [dismissal_histories[d][-1]]"
   ]
  },
  {
   "cell_type": "code",
   "execution_count": null,
   "metadata": {},
   "outputs": [],
   "source": [
    "fig, ax1 = plt.subplots(figsize=(18,10)) \n",
    "sns.lineplot(data = dismissal_histories, ax=ax1, sort = False, palette='rocket', linewidth=2)"
   ]
  },
  {
   "cell_type": "code",
   "execution_count": null,
   "metadata": {},
   "outputs": [],
   "source": [
    "gf.get_career_batting_graph(KOHLI_ID)"
   ]
  },
  {
   "cell_type": "code",
   "execution_count": null,
   "metadata": {},
   "outputs": [],
   "source": [
    "def graph_dismissals(player_id, match_list = None, dates = None):\n",
    "    if not match_list:\n",
    "        match_list = wsf.player_match_list(player_id, dates=dates)\n",
    "    all_totals = af.get_cricket_totals(player_id, matches=match_list, _type='bat', by_innings=True, is_object_id=True)\n",
    "    dismissal_histories = {}\n",
    "    for i, inning in enumerate(all_totals):\n",
    "        try:\n",
    "            dismissal_histories[inning['how_out']] += [dismissal_histories[inning['how_out']][-1]+1]\n",
    "        except KeyError:\n",
    "            dismissal_histories[inning['how_out']] = [0]*(i) + [1]        \n",
    "        for d in dismissal_histories:\n",
    "            if d != inning['how_out']:\n",
    "                dismissal_histories[d] += [dismissal_histories[d][-1]]\n",
    "    \n",
    "    fig, ax1 = plt.subplots(figsize=(18,10)) \n",
    "    sns.lineplot(data = dismissal_histories, ax=ax1, sort = False, palette='rocket', linewidth=2)"
   ]
  },
  {
   "cell_type": "code",
   "execution_count": null,
   "metadata": {},
   "outputs": [],
   "source": [
    "graph_dismissals(KOHLI_ID, match_list=match_list[-23:])"
   ]
  },
  {
   "cell_type": "code",
   "execution_count": null,
   "metadata": {},
   "outputs": [],
   "source": [
    "match_list[-23]"
   ]
  },
  {
   "cell_type": "code",
   "execution_count": null,
   "metadata": {},
   "outputs": [],
   "source": [
    "gf.get_career_batting_graph(KOHLI_ID, dates='2020-02-21:')"
   ]
  },
  {
   "cell_type": "code",
   "execution_count": null,
   "metadata": {},
   "outputs": [],
   "source": [
    "# Lets see the text of Virat Kohli's actually dismissals. So get matches, get the comms from the matches and then pull the commentary text from there. "
   ]
  },
  {
   "cell_type": "code",
   "execution_count": null,
   "metadata": {},
   "outputs": [],
   "source": [
    "# Lets only analyse Kohli's recent \"bad form\"\n",
    "kohli_bad_form_comms = af.get_player_contributions(KOHLI_ID, bad_forma_matches, 'bat', True, True)"
   ]
  },
  {
   "cell_type": "code",
   "execution_count": null,
   "metadata": {},
   "outputs": [],
   "source": [
    "all_dismissals = []\n",
    "for match in kohli_bad_form_comms:\n",
    "    comms = match.iloc[-1]\n",
    "    \n",
    "    if comms.dismissalText not in [None, 'null', 'NaN', 'None']:\n",
    "        print(comms.dismissalText)\n",
    "        all_dismissals.append((comms.commentTextItems, comms.dismissalText))\n",
    "    else:\n",
    "        print(comms.commentTextItems)"
   ]
  },
  {
   "cell_type": "code",
   "execution_count": null,
   "metadata": {},
   "outputs": [],
   "source": [
    "all_dismissals"
   ]
  },
  {
   "cell_type": "code",
   "execution_count": null,
   "metadata": {},
   "outputs": [],
   "source": [
    "count = 0\n",
    "for dismissal in all_dismissals:\n",
    "    for word in ['drive', 'cover', 'defending', 'defence', 'outside']:\n",
    "        if word in dismissal[0].lower():\n",
    "            if 'run out' not in dismissal[1].lower():\n",
    "                print(dismissal[0])\n",
    "                print()\n",
    "                count += 1\n",
    "                break\n",
    "\n",
    "print(f'Dismissals that include key-words: {count}')\n",
    "print(f'Dismissals that include key-words: {count/len(all_dismissals)}')"
   ]
  },
  {
   "cell_type": "code",
   "execution_count": null,
   "metadata": {},
   "outputs": [],
   "source": [
    "len(all_dismissals)"
   ]
  },
  {
   "cell_type": "code",
   "execution_count": null,
   "metadata": {},
   "outputs": [],
   "source": [
    "comms_pre_slump = af.get_player_contributions(KOHLI_ID, match_list[:84], 'bat', True, True)\n",
    "all_every_dismissals = []\n",
    "for match in comms_pre_slump:\n",
    "    comms = match.iloc[-1]\n",
    "    \n",
    "    if comms.dismissalText not in [None, 'null', 'NaN', 'None']:\n",
    "        #print(comms.dismissalText)\n",
    "        all_every_dismissals.append((comms.commentTextItems, comms.dismissalText))\n",
    "    else:\n",
    "        print(comms.commentTextItems)\n",
    "\n",
    "every_count = 0\n",
    "for dismissal in all_every_dismissals:\n",
    "    for word in ['drive', 'cover', 'defending', 'defence', 'outside']:\n",
    "        if word in dismissal[0].lower():\n",
    "            if 'run out' not in dismissal[1].lower():\n",
    "                print(dismissal[0])\n",
    "                print()\n",
    "                every_count += 1\n",
    "                break\n",
    "\n",
    "print(f'Dismissals that include key-words: {every_count}')\n",
    "print(f'Dismissals that include key-words: {every_count/len(all_every_dismissals)}')"
   ]
  },
  {
   "cell_type": "code",
   "execution_count": null,
   "metadata": {},
   "outputs": [],
   "source": [
    "def search_for_keywords(text_items, keywords = [], exclude_words = [], return_matching = False):\n",
    "    count = 0\n",
    "    matching = []\n",
    "    for text in text_items:\n",
    "        for word in keywords:\n",
    "            if word in text.lower():\n",
    "                exclude = False\n",
    "                for e_word in exclude_words:\n",
    "                    if e_word in text.lower():\n",
    "                        exclude = True\n",
    "                        break\n",
    "                if exclude:\n",
    "                    break\n",
    "                count += 1\n",
    "                matching.append(text)\n",
    "                break\n",
    "    if return_matching:\n",
    "        return count, matching\n",
    "    return count"
   ]
  },
  {
   "cell_type": "code",
   "execution_count": null,
   "metadata": {},
   "outputs": [],
   "source": [
    "all_dismissals = [dismissal[0] + ', ' + dismissal[1] for dismissal in all_dismissals]"
   ]
  },
  {
   "cell_type": "code",
   "execution_count": null,
   "metadata": {},
   "outputs": [],
   "source": [
    "count, matching = search_for_keywords(all_dismissals, ['drive', 'cover', 'defending', 'defence', 'outside'], exclude_words=['run out'], return_matching=True)"
   ]
  },
  {
   "cell_type": "code",
   "execution_count": null,
   "metadata": {},
   "outputs": [],
   "source": [
    "count_oe, matching_oe = search_for_keywords(all_dismissals, ['outside off', 'outside edge', 'cover drive', 'drive'], exclude_words=['inside', 'run out'], return_matching=True)"
   ]
  },
  {
   "cell_type": "code",
   "execution_count": null,
   "metadata": {},
   "outputs": [],
   "source": [
    "def get_dismissal_descriptions(commentary):\n",
    "    all_dismissals = []\n",
    "    for match in commentary:\n",
    "        comms = match.iloc[-1]\n",
    "        \n",
    "        if comms.dismissalText not in [None, 'null', 'NaN', 'None']:\n",
    "            #print(comms.dismissalText)\n",
    "            all_dismissals.append((comms.commentTextItems, comms.dismissalText))\n",
    "        #else:\n",
    "            #print(comms.commentTextItems)\n",
    "    return all_dismissals"
   ]
  },
  {
   "cell_type": "code",
   "execution_count": null,
   "metadata": {},
   "outputs": [],
   "source": [
    "top_four_comms = {}\n",
    "for player in ['253802', 303669, 277906, 267192]:\n",
    "    inning = utils.load_data(player, 'career_innings_stats', data_folder=CAREERS)\n",
    "    innings_df = pd.read_json(inning)\n",
    "    top_four_comms[player] = innings_df"
   ]
  },
  {
   "cell_type": "code",
   "execution_count": null,
   "metadata": {},
   "outputs": [],
   "source": [
    "top_four_stats = af.apply_aggregate_func_to_list(['253802', '303669', '277906', '267192'], [af.calculate_recent_form_average, af.calculate_running_average], dates='2020-02-21:', disable_logging=False)"
   ]
  },
  {
   "cell_type": "code",
   "execution_count": null,
   "metadata": {},
   "outputs": [],
   "source": [
    "top_four_stats.keys()"
   ]
  },
  {
   "cell_type": "code",
   "execution_count": null,
   "metadata": {},
   "outputs": [],
   "source": [
    "top_four_comms = {}\n",
    "for player in ['253802', '303669', '277906', '267192']:\n",
    "    inning = utils.load_data(player, 'career_innings_stats', data_folder=CAREERS)\n",
    "    innings_df = pd.read_json(inning)\n",
    "    top_four_comms[player] = innings_df[innings_df.date >= '2020-02-21']"
   ]
  },
  {
   "cell_type": "code",
   "execution_count": null,
   "metadata": {},
   "outputs": [],
   "source": [
    "gf.graph_career_batting_summary(top_four_stats['calculate_recent_form_average'], top_four_stats['calculate_running_average'], top_four_comms)"
   ]
  },
  {
   "cell_type": "code",
   "execution_count": null,
   "metadata": {},
   "outputs": [],
   "source": [
    "results = []\n",
    "for player in ['253802', '303669', '277906', '267192']:\n",
    "    matches = wsf.player_match_list(player)\n",
    "    player_contr = af.get_player_contributions(player, matches=matches, _type='bat', by_innings=True, is_object_id=True)\n",
    "    dismissals = get_dismissal_descriptions(player_contr)\n",
    "    dismissals = [dismissal[0] + ', ' + dismissal[1] for dismissal in dismissals]\n",
    "    count, matching = search_for_keywords(dismissals, ['drive', 'cover', 'defending', 'defence', 'outside'], exclude_words=['run out'], return_matching=True)\n",
    "    count_oe, matching_oe = search_for_keywords(dismissals, ['outside off', 'outside edge', 'cover drive', 'drive'], exclude_words=['inside', 'run out'], return_matching=True)\n",
    "    results.append((count, count_oe, len(dismissals)))\n",
    "    # results.append(count_oe)\n",
    "    # results.append(f\"For player {player}, there were {count}/{len(dismissals)} that include the specified key-words: {['drive', 'cover', 'defending', 'defence', 'outside']}\")\n",
    "    # results.append(f\"For player {player}, there were {count_oe}/{len(dismissals)} that include the specified key-words: {['outside off', 'outside edge', 'cover drive', 'drive']} \")\n",
    "\n",
    "for result in results:\n",
    "    print(f\"For player {player}, there were {result[0]}/{result[2]} that include the specified key-words: {['drive', 'cover', 'defending', 'defence', 'outside']}\")\n",
    "    print(f\"For player {player}, there were {result[1]}/{result[2]} that include the specified key-words: {['outside off', 'outside edge', 'cover drive', 'drive']} \")\n",
    "    "
   ]
  },
  {
   "cell_type": "code",
   "execution_count": null,
   "metadata": {},
   "outputs": [],
   "source": [
    "for result in results:\n",
    "    for i in [0,1]:\n",
    "        print(result[i]/result[2])"
   ]
  },
  {
   "cell_type": "code",
   "execution_count": null,
   "metadata": {},
   "outputs": [],
   "source": [
    "top_players = [PLAYER_ID, SPD_SMITH_ID, ROOT_PLAYER_ID, WILLIAMSON_PLAYER_ID]\n",
    "gf.graph_multi_player_batting_careers(top_players, dates =\"2020-02-21:\")"
   ]
  },
  {
   "cell_type": "code",
   "execution_count": null,
   "metadata": {},
   "outputs": [],
   "source": [
    "gf.graph_multi_player_batting_careers(top_players, dates =\"2020-02-21:\")"
   ]
  },
  {
   "cell_type": "code",
   "execution_count": null,
   "metadata": {},
   "outputs": [],
   "source": [
    "top_indians_table = \"https://stats.espncricinfo.com/ci/engine/stats/index.html?class=1;filter=advanced;orderby=batting_average;qualmin1=20;qualval1=matches;team=6;template=results;type=batting\"\n",
    "top_indians = wsf.read_statsguru(top_indians_table, table_name='Overall figures')"
   ]
  },
  {
   "cell_type": "code",
   "execution_count": null,
   "metadata": {},
   "outputs": [],
   "source": [
    "top_indians = top_indians[0]\n",
    "top_indians.Player = [wsf.player_id_from_link(val, playername=False)[1] for val in top_indians.Player]"
   ]
  },
  {
   "cell_type": "code",
   "execution_count": null,
   "metadata": {},
   "outputs": [],
   "source": [
    "top_indians"
   ]
  },
  {
   "cell_type": "code",
   "execution_count": null,
   "metadata": {},
   "outputs": [],
   "source": [
    "top_20_indians = [player for player in top_indians.Player[:20]]"
   ]
  },
  {
   "cell_type": "code",
   "execution_count": null,
   "metadata": {},
   "outputs": [],
   "source": [
    "top_20_indians"
   ]
  },
  {
   "cell_type": "code",
   "execution_count": null,
   "metadata": {},
   "outputs": [],
   "source": [
    "gf.graph_multi_player_batting_careers(top_20_indians)"
   ]
  },
  {
   "cell_type": "code",
   "execution_count": null,
   "metadata": {},
   "outputs": [],
   "source": [
    "all_recent_form_indians  = utils.load_data('all_recent_form_indians','dict',file_ext='p')\n",
    "all_innings_indians  = utils.load_data('all_running_ave_indians','dict',file_ext='p')\n"
   ]
  },
  {
   "cell_type": "code",
   "execution_count": null,
   "metadata": {},
   "outputs": [],
   "source": [
    "all_running_ave_indians = {}\n",
    "for player in all_innings_indians:\n",
    "    all_running_ave_indians[player] = af.calculate_running_average(all_innings_indians[player])"
   ]
  },
  {
   "cell_type": "code",
   "execution_count": null,
   "metadata": {},
   "outputs": [],
   "source": [
    "gf.graph_career_batting_summary(all_recent_form_indians, all_running_ave_indians, all_innings_indians)"
   ]
  },
  {
   "cell_type": "code",
   "execution_count": null,
   "metadata": {},
   "outputs": [],
   "source": [
    "results = []\n",
    "for player in ['253802', '303669', '277906', '267192']:\n",
    "    matches = wsf.player_match_list(player)\n",
    "    player_contr = af.get_player_contributions(player, matches=matches, _type='bat', by_innings=True, is_object_id=True)\n",
    "    dismissals = get_dismissal_descriptions(player_contr)\n",
    "    dismissals = [dismissal[0] + ', ' + dismissal[1] for dismissal in dismissals]\n",
    "    count, matching = search_for_keywords(dismissals, ['drive', 'cover', 'defending', 'defence', 'outside'], exclude_words=['run out'], return_matching=True)\n",
    "    count_oe, matching_oe = search_for_keywords(dismissals, ['outside off', 'outside edge', 'cover drive', 'drive'], exclude_words=['inside', 'run out'], return_matching=True)\n",
    "    results.append((count, count_oe, len(dismissals)))\n",
    "    # results.append(count_oe)\n",
    "    # results.append(f\"For player {player}, there were {count}/{len(dismissals)} that include the specified key-words: {['drive', 'cover', 'defending', 'defence', 'outside']}\")\n",
    "    # results.append(f\"For player {player}, there were {count_oe}/{len(dismissals)} that include the specified key-words: {['outside off', 'outside edge', 'cover drive', 'drive']} \")\n",
    "\n",
    "for result in results:\n",
    "    print(f\"For player {player}, there were {result[0]}/{result[2]} that include the specified key-words: {['drive', 'cover', 'defending', 'defence', 'outside']}\")\n",
    "    print(f\"For player {player}, there were {result[1]}/{result[2]} that include the specified key-words: {['outside off', 'outside edge', 'cover drive', 'drive']} \")\n",
    "    "
   ]
  },
  {
   "cell_type": "code",
   "execution_count": null,
   "metadata": {},
   "outputs": [],
   "source": [
    "for result in results:\n",
    "    for i in [0,1]:\n",
    "        print(result[i]/result[2])"
   ]
  }
 ],
 "metadata": {
  "kernelspec": {
   "display_name": "Python 3.10.1 (conda)",
   "language": "python",
   "name": "python3"
  },
  "language_info": {
   "codemirror_mode": {
    "name": "ipython",
    "version": 3
   },
   "file_extension": ".py",
   "mimetype": "text/x-python",
   "name": "python",
   "nbconvert_exporter": "python",
   "pygments_lexer": "ipython3",
   "version": "3.9.12"
  },
  "orig_nbformat": 4,
  "vscode": {
   "interpreter": {
    "hash": "456b6b94ba0d66ee5bc1d9da3e6e95c84e73f1e1d031ff65315bb403f464dfac"
   }
  }
 },
 "nbformat": 4,
 "nbformat_minor": 2
}
