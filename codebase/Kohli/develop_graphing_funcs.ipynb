{
 "cells": [
  {
   "cell_type": "code",
   "execution_count": null,
   "metadata": {},
   "outputs": [],
   "source": [
    "from codebase import web_scrape_functions as wsf\n",
    "from codebase import analysis_functions as af\n",
    "from codebase import match_data\n",
    "import pandas as pd\n",
    "import warnings\n",
    "warnings.simplefilter(action='ignore', category=FutureWarning)\n",
    "import utils\n",
    "from utils import logger\n",
    "import os\n",
    "import logging\n",
    "import matplotlib\n",
    "import matplotlib.pyplot as plt\n",
    "import seaborn as sns\n",
    "import numpy as np\n",
    "import codebase.graphing_functions as gf\n",
    "from codebase.settings import CAREERS\n",
    "\n",
    "%load_ext autoreload\n",
    "%autoreload 2\n",
    "logger.handlers[1].setLevel(logging.INFO)\n",
    "# logger.disabled = True\n",
    "pd.get_option(\"display.max_columns\")"
   ]
  },
  {
   "cell_type": "code",
   "execution_count": null,
   "metadata": {},
   "outputs": [],
   "source": [
    "PLAYER_ID = '253802'\n",
    "ROOT_PLAYER_ID = 303669\n",
    "WILLIAMSON_PLAYER_ID = 277906\n",
    "SPD_SMITH_ID = 267192"
   ]
  },
  {
   "cell_type": "code",
   "execution_count": null,
   "metadata": {},
   "outputs": [],
   "source": [
    "test_match_list = wsf.player_match_list(PLAYER_ID, _format='test')\n",
    "test_match_list"
   ]
  },
  {
   "cell_type": "code",
   "execution_count": null,
   "metadata": {},
   "outputs": [],
   "source": [
    "match_101 = match_data.MatchData(test_match_list[-1])"
   ]
  },
  {
   "cell_type": "code",
   "execution_count": null,
   "metadata": {},
   "outputs": [],
   "source": [
    "match_101.__dict__.keys()"
   ]
  },
  {
   "cell_type": "code",
   "execution_count": null,
   "metadata": {},
   "outputs": [],
   "source": [
    "match_101.legacy_scorecard_url"
   ]
  },
  {
   "cell_type": "code",
   "execution_count": null,
   "metadata": {},
   "outputs": [],
   "source": [
    "match_101.team_1_players"
   ]
  },
  {
   "cell_type": "code",
   "execution_count": null,
   "metadata": {},
   "outputs": [],
   "source": [
    "match_101.date"
   ]
  },
  {
   "cell_type": "code",
   "execution_count": null,
   "metadata": {},
   "outputs": [],
   "source": [
    "%%script false --no-raise-error\n",
    "match_101_contr = af._get_player_contribution(PLAYER_ID, match_101, 'bat', True, True)\n",
    "match_101_contr[-1]"
   ]
  },
  {
   "cell_type": "markdown",
   "metadata": {},
   "source": [
    "We now have the ability to get the match list for a particular player. We now need to just get the comms from this match, and also get the individual player stats for the match. "
   ]
  },
  {
   "cell_type": "markdown",
   "metadata": {},
   "source": [
    "#### Comms for each match"
   ]
  },
  {
   "cell_type": "code",
   "execution_count": null,
   "metadata": {},
   "outputs": [],
   "source": [
    "# all_comms = []\n",
    "\n",
    "# for m_id in test_match_list:\n",
    "#     try:\n",
    "#         logger.info(f'Grabbing data for matchID {m_id}')\n",
    "#         _match = match_data.MatchData(m_id, serialize=False)\n",
    "#         comms = af.pre_transform_comms(_match)\n",
    "#         comm_w_labels = af.create_labels(comms, ['isWicket', 'isFour', 'isSix'], null_category='noEvent')\n",
    "#         all_comms.append(comm_w_labels)\n",
    "#     except utils.NoMatchCommentaryError:\n",
    "#         continue\n",
    "\n",
    "# try:\n",
    "#     all_comms = pd.concat(all_comms, ignore_index=True)\n",
    "#     print(all_comms.size)\n",
    "#     print(all_comms.groupby('labels').size())\n",
    "#     all_comms.to_csv('./commentary_labels.csv')\n",
    "# except ValueError:\n",
    "#     print('No commentary to show')"
   ]
  },
  {
   "cell_type": "markdown",
   "metadata": {},
   "source": [
    "Lets get the player scores for every match, we will run the player contribution function for each match in the list.  "
   ]
  },
  {
   "cell_type": "code",
   "execution_count": null,
   "metadata": {},
   "outputs": [],
   "source": [
    "%%script false --no-raise-error\n",
    "contributions = []\n",
    "for match_id in test_match_list:\n",
    "    match = match_data.MatchData(match_id)\n",
    "    contribution = af._cricket_totals(PLAYER_ID, match, _type='bat', by_innings=True, is_object_id=True)\n",
    "    for i,inning in enumerate(contribution['bat']):\n",
    "        contributions.append({**inning, **{key:contribution[key] for key in contribution.keys() if key not in ['bat', 'bowl']}, **{'inning': i}})\n",
    "\n",
    "contributions[-5:]"
   ]
  },
  {
   "cell_type": "code",
   "execution_count": null,
   "metadata": {},
   "outputs": [],
   "source": [
    "#innings = [inning for match in contributions for inning in match]\n",
    "#innings[:5]"
   ]
  },
  {
   "cell_type": "code",
   "execution_count": null,
   "metadata": {},
   "outputs": [],
   "source": [
    "%%script false --no-raise-error\n",
    "innings_df = pd.DataFrame(contributions)\n",
    "innings_df.head()\n",
    "innings_df.shape"
   ]
  },
  {
   "cell_type": "markdown",
   "metadata": {},
   "source": [
    "Now we will try to graph the running average on this graph. "
   ]
  },
  {
   "cell_type": "code",
   "execution_count": null,
   "metadata": {},
   "outputs": [],
   "source": [
    "%%script false --no-raise-error\n",
    "running_average = []\n",
    "\n",
    "total_runs = 0\n",
    "out = 0\n",
    "\n",
    "for i,innings in enumerate(zip(innings_df.runs, innings_df.not_out)):\n",
    "    total_runs += innings[0]\n",
    "    if innings[1] == False:\n",
    "        out += 1\n",
    "    try:\n",
    "        running_average.append(round(total_runs/out,2))\n",
    "    except ZeroDivisionError:\n",
    "        running_average.append(None)\n",
    "\n",
    "running_average"
   ]
  },
  {
   "cell_type": "markdown",
   "metadata": {},
   "source": [
    "We now can map the average of the last X innings, this is the 'form guide'"
   ]
  },
  {
   "cell_type": "code",
   "execution_count": null,
   "metadata": {},
   "outputs": [],
   "source": [
    "%%script false --no-raise-error\n",
    "last_x_average = []\n",
    "\n",
    "window_runs = 0\n",
    "window_out = 0\n",
    "\n",
    "#moving window of length x\n",
    "\n",
    "window_size = 12\n",
    "\n",
    "for i,innings in enumerate(zip(innings_df.runs, innings_df.not_out)):\n",
    "    if i>=window_size:\n",
    "        window_runs -= innings_df.runs.iloc[i-window_size]\n",
    "        if innings_df.not_out.iloc[i-window_size] == False:\n",
    "            window_out -= 1\n",
    "    \n",
    "    window_runs += innings[0]\n",
    "    if innings[1] == False:\n",
    "        window_out += 1\n",
    "    try:\n",
    "        last_x_average.append(round(window_runs/window_out,2))\n",
    "    except ZeroDivisionError:\n",
    "        last_x_average.append(None)\n",
    "\n",
    "last_x_average"
   ]
  },
  {
   "cell_type": "code",
   "execution_count": null,
   "metadata": {},
   "outputs": [],
   "source": [
    "%%script false --no-raise-error\n",
    "y_range = [0, max(innings_df.runs) + 20]\n",
    "\n",
    "fig, ax1 = plt.subplots(figsize=(18,10))\n",
    "#sns.set_theme()\n",
    "sns.lineplot(data = {'Average': running_average, f'Last {window_size} Innings': last_x_average}, sort = False, ax=ax1, palette='rocket')\n",
    "\n",
    "ax1.set_ylim(y_range)\n",
    "\n",
    "ax2 = ax1.twinx()\n",
    "\n",
    "sns.barplot(data = innings_df, x=innings_df.index, y=innings_df.runs, alpha=0.5, ax=ax2, hue=innings_df.continent, palette='mako', dodge=False)\n",
    "ax2.set_ylim(y_range)"
   ]
  },
  {
   "cell_type": "code",
   "execution_count": null,
   "metadata": {},
   "outputs": [],
   "source": [
    "%%script false --no-raise-error\n",
    "SPD_SMITH_TEST_MATCHES = wsf.player_match_list(SPD_SMITH_ID)\n",
    "spd_smith_contributions = af.get_cricket_totals(SPD_SMITH_ID, SPD_SMITH_TEST_MATCHES, 'bat', True, True)"
   ]
  },
  {
   "cell_type": "code",
   "execution_count": null,
   "metadata": {},
   "outputs": [],
   "source": [
    "%%script false --no-raise-error\n",
    "# spd_smith_contributions[-5:]"
   ]
  },
  {
   "cell_type": "code",
   "execution_count": null,
   "metadata": {},
   "outputs": [],
   "source": [
    "%%script false --no-raise-error\n",
    "spd_innings = pd.DataFrame(spd_smith_contributions)\n",
    "spd_innings.tail()"
   ]
  },
  {
   "cell_type": "code",
   "execution_count": null,
   "metadata": {},
   "outputs": [],
   "source": [
    "%%script false --no-raise-error\n",
    "spd_ave = af.get_running_average(SPD_SMITH_ID)\n",
    "spd_recent_form = af.get_recent_form_average(SPD_SMITH_ID, window_size=12)"
   ]
  },
  {
   "cell_type": "code",
   "execution_count": null,
   "metadata": {},
   "outputs": [],
   "source": [
    "%%script false --no-raise-error\n",
    "y_range = [0, max(spd_innings.runs) + 20]\n",
    "\n",
    "fig, ax1 = plt.subplots(figsize=(18,10))\n",
    "#sns.set_theme()\n",
    "sns.lineplot(data = {'Average': spd_ave, f'Last {window_size} Innings': spd_recent_form}, sort = False, ax=ax1, palette='rocket')\n",
    "\n",
    "ax1.set_ylim(y_range)\n",
    "\n",
    "ax2 = ax1.twinx()\n",
    "\n",
    "sns.barplot(data = innings_df, x=spd_innings.index, y=spd_innings.runs, alpha=0.5, ax=ax2, hue=spd_innings.continent, palette='mako', dodge=False)\n",
    "ax2.set_ylim(y_range)"
   ]
  },
  {
   "cell_type": "code",
   "execution_count": null,
   "metadata": {},
   "outputs": [],
   "source": [
    "%%script false --no-raise-error\n",
    "contributions = af.get_player_contributions(PLAYER_ID, test_match_list, 'bat', False, True)"
   ]
  },
  {
   "cell_type": "code",
   "execution_count": null,
   "metadata": {},
   "outputs": [],
   "source": [
    "%%script false --no-raise-error\n",
    "contributions[-5:]"
   ]
  },
  {
   "cell_type": "code",
   "execution_count": null,
   "metadata": {},
   "outputs": [],
   "source": [
    "%%script false --no-raise-error\n",
    "innings = af.get_cricket_totals(PLAYER_ID, test_match_list, 'bat', True, True)\n",
    "innings[-5:]"
   ]
  },
  {
   "cell_type": "code",
   "execution_count": null,
   "metadata": {},
   "outputs": [],
   "source": [
    "#Williamson\n",
    "#af.get_career_batting_graph(277906)"
   ]
  },
  {
   "cell_type": "code",
   "execution_count": null,
   "metadata": {},
   "outputs": [],
   "source": [
    "#Root\n",
    "#af.get_career_batting_graph(303669)"
   ]
  },
  {
   "cell_type": "code",
   "execution_count": null,
   "metadata": {},
   "outputs": [],
   "source": [
    "#Smith\n",
    "# af.get_career_batting_graph(SPD_SMITH_ID)"
   ]
  },
  {
   "cell_type": "code",
   "execution_count": null,
   "metadata": {},
   "outputs": [],
   "source": [
    "#Kohli\n",
    "# af.get_career_batting_graph(PLAYER_ID, dates='2017-01-01:')"
   ]
  },
  {
   "cell_type": "code",
   "execution_count": null,
   "metadata": {},
   "outputs": [],
   "source": [
    "#Cook\n",
    "gf.get_career_batting_graph(11728, player_age='27:33')"
   ]
  },
  {
   "cell_type": "code",
   "execution_count": null,
   "metadata": {},
   "outputs": [],
   "source": [
    "%%script false --no-raise-error\n",
    "\n",
    "sns.set_theme()\n",
    "innings_df.head()"
   ]
  },
  {
   "cell_type": "code",
   "execution_count": null,
   "metadata": {},
   "outputs": [],
   "source": [
    "%%script false --no-raise-error\n",
    "fig_dims = (15,10)\n",
    "fig,ax = plt.subplots(figsize=fig_dims);\n",
    "bar = sns.barplot(innings_df.index, innings_df.runs, palette='mako');\n",
    "x_dates = innings_df.date.dt.strftime('%d-%m-%Y')\n",
    "bar.set_xticklabels(labels=x_dates, rotation=90);\n",
    "\n",
    "_ = plt.setp(ax.patches, linewidth=0)\n",
    "ax.xaxis.set_major_locator(plt.MaxNLocator(5))"
   ]
  },
  {
   "cell_type": "code",
   "execution_count": null,
   "metadata": {},
   "outputs": [],
   "source": [
    "top_players = wsf.read_statsguru('https://stats.espncricinfo.com/ci/engine/stats/index.html?class=1;filter=advanced;orderby=batting_average;qualmin1=30;qualval1=matches;template=results;type=batting', table_name='Overall figures')\n"
   ]
  },
  {
   "cell_type": "code",
   "execution_count": null,
   "metadata": {},
   "outputs": [],
   "source": [
    "top_players = pd.DataFrame(top_players[0])"
   ]
  },
  {
   "cell_type": "code",
   "execution_count": null,
   "metadata": {},
   "outputs": [],
   "source": [
    "top_players.head()"
   ]
  },
  {
   "cell_type": "code",
   "execution_count": null,
   "metadata": {},
   "outputs": [],
   "source": [
    "top_players.Player = [wsf.player_id_from_link(player, playername=False)[1] for player in top_players.Player]"
   ]
  },
  {
   "cell_type": "code",
   "execution_count": null,
   "metadata": {},
   "outputs": [],
   "source": [
    "top_players[top_players.Player == '267192']"
   ]
  },
  {
   "cell_type": "code",
   "execution_count": null,
   "metadata": {},
   "outputs": [],
   "source": [
    "%%script false --no-raise-error\n",
    "match_list = []\n",
    "for player in top_players.Player:\n",
    "    match_list += wsf.player_match_list(player)"
   ]
  },
  {
   "cell_type": "code",
   "execution_count": null,
   "metadata": {},
   "outputs": [],
   "source": [
    "# set([int(id) for id in match_list])"
   ]
  },
  {
   "cell_type": "code",
   "execution_count": null,
   "metadata": {},
   "outputs": [],
   "source": [
    "# len(match_list)"
   ]
  },
  {
   "cell_type": "code",
   "execution_count": null,
   "metadata": {},
   "outputs": [],
   "source": [
    "%%script false --no-raise-error\n",
    "recent_form = {}\n",
    "for player in [PLAYER_ID, SPD_SMITH_ID, ROOT_PLAYER_ID, WILLIAMSON_PLAYER_ID]:\n",
    "    player_match_list = wsf.player_match_list(player)\n",
    "    player_innings_df = af.get_cricket_totals(player, player_match_list, _type='bat', by_innings=True, is_object_id=True)\n",
    "    player_innings_df = pd.DataFrame(player_innings_df)\n",
    "    recent_form[player] = af.calculate_recent_form_average(player_innings_df)"
   ]
  },
  {
   "cell_type": "code",
   "execution_count": null,
   "metadata": {},
   "outputs": [],
   "source": [
    "%%script false --no-raise-error\n",
    "top_players.Player"
   ]
  },
  {
   "cell_type": "code",
   "execution_count": null,
   "metadata": {},
   "outputs": [],
   "source": [
    "all_recent_form = utils.load_data('all_recent_form','dict',file_ext='p')"
   ]
  },
  {
   "cell_type": "code",
   "execution_count": null,
   "metadata": {},
   "outputs": [],
   "source": [
    "all_running_ave  = utils.load_data('all_running_ave','dict',file_ext='p')"
   ]
  },
  {
   "cell_type": "code",
   "execution_count": null,
   "metadata": {},
   "outputs": [],
   "source": [
    "all_running_ave.keys()"
   ]
  },
  {
   "cell_type": "code",
   "execution_count": null,
   "metadata": {},
   "outputs": [],
   "source": [
    "problem_players = []\n",
    "for player in all_recent_form:\n",
    "    try:\n",
    "        [int(x) for x in all_recent_form[player]]\n",
    "    except (ValueError, TypeError):\n",
    "        problem_players.append(player)\n",
    "\n",
    "problem_players\n",
    "        "
   ]
  },
  {
   "cell_type": "code",
   "execution_count": null,
   "metadata": {},
   "outputs": [],
   "source": [
    "full_df = af.normalized_career_length(all_recent_form)"
   ]
  },
  {
   "cell_type": "code",
   "execution_count": null,
   "metadata": {},
   "outputs": [],
   "source": [
    "full_ave_df = af.normalized_career_length(all_running_ave)"
   ]
  },
  {
   "cell_type": "code",
   "execution_count": null,
   "metadata": {},
   "outputs": [],
   "source": [
    "full_ave_df.shape"
   ]
  },
  {
   "cell_type": "code",
   "execution_count": null,
   "metadata": {},
   "outputs": [],
   "source": [
    "combined_df = pd.concat([full_df[['35320', '7133', '50710','52337']], full_ave_df[['35320', '7133', '50710', '52337']]], axis=1, join='inner')\n",
    "combined_df.columns = ['35320', '7133', '50710','52337', '35320-ra', '7133-ra', '50710-ra', '52337-ra']"
   ]
  },
  {
   "cell_type": "code",
   "execution_count": null,
   "metadata": {},
   "outputs": [],
   "source": [
    "full_df[['35320', '7133', '50710', '52337']]"
   ]
  },
  {
   "cell_type": "code",
   "execution_count": null,
   "metadata": {},
   "outputs": [],
   "source": [
    "i = 2\n",
    "fig, ax1 = plt.subplots(figsize=(18,10))\n",
    "sns.set_theme()\n",
    "sns.lineplot(data = combined_df.iloc[:, [i, i+4]], sort = False, ax=ax1, palette='mako', lw=2.5)\n",
    "\n",
    "#ax1.set_ylim([0,250])"
   ]
  },
  {
   "cell_type": "code",
   "execution_count": null,
   "metadata": {},
   "outputs": [],
   "source": [
    "fig, ax1 = plt.subplots(figsize=(18,10))\n",
    "sns.set_theme()\n",
    "sns.lineplot(data = [all_recent_form['35320'], all_recent_form['7133'],all_recent_form['50710'], all_recent_form['253802']], sort = False, ax=ax1, palette='mako', lw=2.5)"
   ]
  },
  {
   "cell_type": "code",
   "execution_count": null,
   "metadata": {},
   "outputs": [],
   "source": [
    "combined_df.shape"
   ]
  },
  {
   "cell_type": "code",
   "execution_count": null,
   "metadata": {},
   "outputs": [],
   "source": [
    "fig, ax1 = plt.subplots(nrows=combined_df.shape[1]//2, figsize=(18, combined_df.shape[1]*5))\n",
    "sns.set_theme()\n",
    "for i in range(combined_df.shape[1]//2):\n",
    "    print(i)\n",
    "    sns.lineplot(data = combined_df.iloc[:, [i, i+4]], sort = False, ax=ax1[i], palette='rocket', lw=2)"
   ]
  },
  {
   "cell_type": "code",
   "execution_count": null,
   "metadata": {},
   "outputs": [],
   "source": [
    "cols = full_df.columns\n",
    "full_ave_df = full_ave_df.reindex(columns=cols)\n",
    "cols = {col:f'{col}_rf' for col in cols}\n",
    "full_df.rename(columns=cols, inplace=True)\n",
    "full_df.head()\n"
   ]
  },
  {
   "cell_type": "code",
   "execution_count": null,
   "metadata": {},
   "outputs": [],
   "source": [
    "full_ave_df.head()"
   ]
  },
  {
   "cell_type": "code",
   "execution_count": null,
   "metadata": {},
   "outputs": [],
   "source": [
    "full_combined_df = pd.concat([full_df, full_ave_df], axis=1, join='inner')"
   ]
  },
  {
   "cell_type": "code",
   "execution_count": null,
   "metadata": {},
   "outputs": [],
   "source": [
    "top_players.head()"
   ]
  },
  {
   "cell_type": "code",
   "execution_count": null,
   "metadata": {},
   "outputs": [],
   "source": [
    "k = full_combined_df.shape[1]//2\n",
    "fig, ax1 = plt.subplots(nrows=k, figsize=(18, k*5))\n",
    "sns.set_theme()\n",
    "for i in range(k):\n",
    "    sns.lineplot(data = full_combined_df.iloc[:, [i, i+k]], sort = False, ax=ax1[i], palette='rocket', lw=2)\n",
    "    name = wsf.get_player_json(full_combined_df.columns[i+k])[\"name\"]\n",
    "    ax1[i].set_title(f'{name} Career Summary')\n"
   ]
  },
  {
   "cell_type": "code",
   "execution_count": null,
   "metadata": {},
   "outputs": [],
   "source": [
    "all_running_ave_mod = {f'{key}_rf':all_running_ave[key] for key in sorted(all_running_ave)}\n",
    "combined_averages = {**{k:all_recent_form[k] for k in sorted(all_recent_form)}, **all_running_ave_mod}"
   ]
  },
  {
   "cell_type": "code",
   "execution_count": null,
   "metadata": {},
   "outputs": [],
   "source": [
    "k = len(combined_averages)//2\n",
    "fig, ax1 = plt.subplots(nrows=k, figsize=(18, k*5))\n",
    "sns.set_theme()\n",
    "for i in range(k):\n",
    "    first_column = list(combined_averages.keys())[i]\n",
    "    second_column = list(combined_averages.keys())[i+k]\n",
    "    sns.lineplot(data = {'recent form':combined_averages[first_column], 'career ave':combined_averages[second_column]}, sort = False, ax=ax1[i], palette='rocket', lw=2)\n",
    "    name = wsf.get_player_json(first_column)[\"name\"]\n",
    "    ax1[i].set_title(f'{name} Career Summary')\n",
    "    ax1[i].set_xlabel('Innings')\n",
    "    ax1[i].set_ylabel('Runs')"
   ]
  },
  {
   "cell_type": "code",
   "execution_count": null,
   "metadata": {},
   "outputs": [],
   "source": [
    "all_recent_form_30 = utils.load_data('all_recent_form_30','dict',file_ext='p')\n",
    "all_running_ave_30 = utils.load_data('all_running_ave_30','dict',file_ext='p')"
   ]
  },
  {
   "cell_type": "code",
   "execution_count": null,
   "metadata": {},
   "outputs": [],
   "source": [
    "all_innings = {}\n",
    "for player in top_players.Player:\n",
    "    inning = utils.load_data(player, 'career_innings_stats', data_folder=CAREERS)\n",
    "    innings_df = pd.read_json(inning)\n",
    "    all_innings[player] = innings_df"
   ]
  },
  {
   "cell_type": "code",
   "execution_count": null,
   "metadata": {},
   "outputs": [],
   "source": [
    "all_innings"
   ]
  },
  {
   "cell_type": "code",
   "execution_count": null,
   "metadata": {},
   "outputs": [],
   "source": [
    "test_players = ['14334', '10777', '11886']\n",
    "test_recent_form = {k:all_recent_form[k] for k in test_players}\n",
    "test_running_ave = {k:all_running_ave[k] for k in test_players}\n",
    "test_innings = {k:all_innings[k] for k in test_players}"
   ]
  },
  {
   "cell_type": "code",
   "execution_count": null,
   "metadata": {},
   "outputs": [],
   "source": [
    "gf.graph_career_batting_summary(test_recent_form, test_running_ave, test_innings)"
   ]
  },
  {
   "cell_type": "code",
   "execution_count": null,
   "metadata": {},
   "outputs": [],
   "source": [
    "from datetime import datetime\n",
    "all_innings_30 = {}\n",
    "for player in top_players.Player:\n",
    "    inning = utils.load_data(player, 'career_innings_stats', data_folder=CAREERS)\n",
    "    innings_df = pd.read_json(inning)\n",
    "    innings_df['date'] = pd.to_datetime(innings_df['date'], unit='ms')\n",
    "    #print(innings_df.head())\n",
    "    dates = af.dates_from_age(player, '30:')\n",
    "    #print(dates)\n",
    "    cuttof = datetime.strptime(dates.split(':')[0], '%Y-%m-%d') \n",
    "    #print(cuttof)\n",
    "    all_innings_30[player] = innings_df[innings_df.date >= cuttof]"
   ]
  },
  {
   "cell_type": "code",
   "execution_count": null,
   "metadata": {},
   "outputs": [],
   "source": [
    "all_innings_30"
   ]
  },
  {
   "cell_type": "code",
   "execution_count": null,
   "metadata": {},
   "outputs": [],
   "source": [
    "gf.graph_career_batting_summary(all_recent_form_30, all_running_ave_30, all_innings_30)"
   ]
  },
  {
   "cell_type": "code",
   "execution_count": null,
   "metadata": {},
   "outputs": [],
   "source": [
    "match_1 = test_match_list[0]\n",
    "match_1_innings = af.get_player_contributions(PLAYER_ID, test_match_list[0],'bat', True, True)\n",
    "match_1_innings"
   ]
  },
  {
   "cell_type": "code",
   "execution_count": null,
   "metadata": {},
   "outputs": [],
   "source": []
  }
 ],
 "metadata": {
  "interpreter": {
   "hash": "456b6b94ba0d66ee5bc1d9da3e6e95c84e73f1e1d031ff65315bb403f464dfac"
  },
  "kernelspec": {
   "display_name": "Python 3.10.1 (conda)",
   "language": "python",
   "name": "python3"
  },
  "language_info": {
   "codemirror_mode": {
    "name": "ipython",
    "version": 3
   },
   "file_extension": ".py",
   "mimetype": "text/x-python",
   "name": "python",
   "nbconvert_exporter": "python",
   "pygments_lexer": "ipython3",
   "version": "3.10.1"
  },
  "orig_nbformat": 4
 },
 "nbformat": 4,
 "nbformat_minor": 2
}
