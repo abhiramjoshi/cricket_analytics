{
 "cells": [
  {
   "cell_type": "code",
   "execution_count": null,
   "metadata": {},
   "outputs": [],
   "source": [
    "import codebase.web_scrape_functions as wsf\n",
    "import codebase.analysis_functions as af\n",
    "import codebase.match_data as match_data\n",
    "import pandas as pd\n",
    "import warnings\n",
    "warnings.simplefilter(action='ignore', category=FutureWarning)\n",
    "import utils\n",
    "from utils import logger\n",
    "import os\n",
    "import logging\n",
    "import matplotlib\n",
    "import matplotlib.pyplot as plt\n",
    "import seaborn as sns\n",
    "import numpy as np\n",
    "import codebase.graphing_functions as gf\n",
    "from codebase.settings import CAREERS\n",
    "from codebase.settings import LABEL_DATA\n",
    "\n",
    "if utils.check_if_ipython():\n",
    "    logger.disabled = True\n",
    "\n",
    "%load_ext autoreload\n",
    "%autoreload 2\n",
    "logger.handlers[1].setLevel(logging.INFO)\n",
    "# logger.disabled = True\n",
    "pd.get_option(\"display.max_columns\")"
   ]
  },
  {
   "cell_type": "markdown",
   "metadata": {},
   "source": [
    "First step is to get Kohli's career averges for all shots, then his averages for just specific shots and then we can find his most productive shot. The problem with searching things based off of specific shots strings only is that there is a veriety in the way that shots are described in the commentary. We would need a machine learning algorithm to work and recognize what these shots are. But first we need to create a training set which is a pain in the ass."
   ]
  },
  {
   "cell_type": "code",
   "execution_count": null,
   "metadata": {},
   "outputs": [],
   "source": [
    "KOHLI_ID = '253802'\n",
    "ROOT_PLAYER_ID = '303669'\n",
    "WILLIAMSON_PLAYER_ID = '277906'\n",
    "SPD_SMITH_ID = '267192'"
   ]
  },
  {
   "cell_type": "code",
   "execution_count": null,
   "metadata": {},
   "outputs": [],
   "source": [
    "kohli_matches = wsf.get_player_match_list(KOHLI_ID)"
   ]
  },
  {
   "cell_type": "code",
   "execution_count": null,
   "metadata": {},
   "outputs": [],
   "source": [
    "kohli_innings = af.get_cricket_totals(KOHLI_ID, kohli_matches, _type='bat', by_innings=True, is_object_id=True, from_scorecards=False)"
   ]
  },
  {
   "cell_type": "code",
   "execution_count": null,
   "metadata": {},
   "outputs": [],
   "source": [
    "kohli_comms = af.get_player_contributions(KOHLI_ID, kohli_matches, _type='bat', by_innings=True, is_object_id=True)"
   ]
  },
  {
   "cell_type": "code",
   "execution_count": null,
   "metadata": {},
   "outputs": [],
   "source": [
    "kohli_comms_flat = [x for comms in kohli_comms for x in comms.commentTextItems.to_list()]"
   ]
  },
  {
   "cell_type": "code",
   "execution_count": null,
   "metadata": {},
   "outputs": [],
   "source": [
    "def search_shots_in_comms(contributions, search_keywords, exlude_words=[], primary_keywords=[], threshold = 0.5):\n",
    "    shots = []\n",
    "    for i, comms in enumerate(contributions):\n",
    "        innings = comms.commentTextItems.to_list()\n",
    "        search = af.search_for_phrases(innings, keywords=search_keywords, exclude_words=exlude_words, primary_keywords=primary_keywords, threshold = threshold)\n",
    "        shots.append(comms.iloc[[i for i,x in enumerate(search[0]) if x == 1]])\n",
    "        \n",
    "    return shots"
   ]
  },
  {
   "cell_type": "code",
   "execution_count": null,
   "metadata": {},
   "outputs": [],
   "source": [
    "## Cover drives \n",
    "cover_drive_primary_kw = ['cover drive', 'cover-drive']\n",
    "\n",
    "cover_drive_search_kw = [\n",
    "    'drive',\n",
    "    ('punch', 0.3),\n",
    "    ('cover', 0.3),\n",
    "    ('full', 0.2),\n",
    "    ('wide', 0.2) ,\n",
    "    'outside edge',\n",
    "    ('reach', 0.3),\n",
    "    'slip',\n",
    "    'edge',\n",
    "    'driving'\n",
    "]\n",
    "cover_drive_exlude_words = [\n",
    "    'run out',\n",
    "    'pull', 'flick',\n",
    "    'bouncer', 'short ball', 'stays back',\n",
    "    'backfoot', 'top edge', 'leave',\n",
    "    'lets one go', 'easy leave', 'leaves the ball',\n",
    "    'leg side', 'leading edge', 'leg ', 'cut', 'leg.',\n",
    "    'on the pads', 'left alone', ('short', 0.25)\n",
    "]\n",
    "cover_drives_played = search_shots_in_comms(kohli_comms, cover_drive_search_kw, cover_drive_exlude_words, primary_keywords=cover_drive_primary_kw)"
   ]
  },
  {
   "cell_type": "code",
   "execution_count": null,
   "metadata": {},
   "outputs": [],
   "source": [
    "cover_drive_primary_kw = ['cover drive', 'cover-drive']\n",
    "\n",
    "cover_drive_search_kw = [\n",
    "    'drive',\n",
    "    ('punch', 0.3),\n",
    "    ('cover', 0.3),\n",
    "    ('off side', 0.2),\n",
    "    ('full', 0.25),\n",
    "    ('wide', 0.2) ,\n",
    "    ('outside edge', 0.3),\n",
    "    ('reach', 0.3),\n",
    "    ('slip', 0.25),\n",
    "    ('edge', 0.3),\n",
    "    'driving',\n",
    "    ('force', 0.2),\n",
    "    ('push', 0.3),\n",
    "    ('pitched up', 0.3),\n",
    "    ('Overpitched', 0.2),\n",
    "    ('dab', 0.2),\n",
    "    ('outside off', 0.25)\n",
    "\n",
    "]\n",
    "cover_drive_exlude_words = [\n",
    "    'run out',\n",
    "    'pull', 'flick',\n",
    "    'bouncer', 'short ball', 'stays back',\n",
    "    'backfoot', 'top edge', 'leave', 'back foot', ('back', 0.2),\n",
    "    'lets one go', 'easy leave', 'leaves the ball', 'goes back',\n",
    "    'leg side', 'leading edge', ('leg ', 0.25), 'cut', ('leg', 0.25),\n",
    "    'on the pads', 'left alone', ('short', 0.25), ('midwicket', 0.2), ('long-on', 0.25), ('long on', 0.25), ('back of a length', 0.25)\n",
    "]\n",
    "\n"
   ]
  },
  {
   "cell_type": "code",
   "execution_count": null,
   "metadata": {},
   "outputs": [],
   "source": [
    "ind, scores = af.search_for_phrases(kohli_comms_flat, cover_drive_search_kw, cover_drive_exlude_words, primary_keywords=cover_drive_primary_kw, threshold=0.49)\n",
    "cover_drives_career = [kohli_comms_flat[i] for i,x in enumerate(ind) if x==1]\n",
    "cover_drives_almost = [kohli_comms_flat[i] for i,x in enumerate(scores) if x < 0.49 and x > 0]"
   ]
  },
  {
   "cell_type": "code",
   "execution_count": null,
   "metadata": {},
   "outputs": [],
   "source": [
    "print(len(cover_drives_career))\n",
    "cover_drives_career"
   ]
  },
  {
   "cell_type": "code",
   "execution_count": null,
   "metadata": {},
   "outputs": [],
   "source": [
    "print(len(cover_drives_almost))\n",
    "cover_drives_almost[1000:]"
   ]
  },
  {
   "cell_type": "code",
   "execution_count": null,
   "metadata": {},
   "outputs": [],
   "source": [
    "[x for comms in cover_drives_played for x in comms.commentTextItems.to_list()]"
   ]
  },
  {
   "cell_type": "code",
   "execution_count": null,
   "metadata": {},
   "outputs": [],
   "source": [
    "cover_drive_averages, cover_drive_totals, cover_drive_stats = af.analyse_batting(cover_drives_played)"
   ]
  },
  {
   "cell_type": "code",
   "execution_count": null,
   "metadata": {},
   "outputs": [],
   "source": [
    "cover_drive_averages"
   ]
  },
  {
   "cell_type": "code",
   "execution_count": null,
   "metadata": {},
   "outputs": [],
   "source": [
    "cover_drive_totals"
   ]
  },
  {
   "cell_type": "code",
   "execution_count": null,
   "metadata": {},
   "outputs": [],
   "source": [
    "flick_primary_kw = [\n",
    "    'flick'\n",
    "]\n",
    "flick_search_kw = [\n",
    "    'tuck',\n",
    "    'clipped',\n",
    "    'clip',\n",
    "    ('pads', 0.3),\n",
    "    ('pad ', 0.3),\n",
    "    'on the pads',\n",
    "    #('leg side', 0.25),\n",
    "    ('leg', 0.3),\n",
    "    ('square', 0.19),\n",
    "    'glance'\n",
    "    'off the pads',\n",
    "    'off his pads',\n",
    "    ('nudge', 0.3),\n",
    "    ('pick', 0.3),\n",
    "    ('straight', 0.3),\n",
    "    #('square leg', 0.25),\n",
    "    ('whip', 0.4),\n",
    "    'on the legs',\n",
    "    ('work', 0.25),\n",
    "    ('midwicket', 0.3),\n",
    "    ('on side', 0.25),\n",
    "    ('across', 0.3)\n",
    "]\n",
    "flick_exlude_words = [\n",
    "    'run out', 'bumper', 'sweep', 'swept',\n",
    "    'pull', 'drive', 'cover-drive', ('cover', 0.3),\n",
    "    'bouncer', 'short ball', 'stays back',\n",
    "    'backfoot', 'top edge',\n",
    "    'lets one go', 'easy leave', 'leaves the ball', 'padded away',\n",
    "    ('off side', 0.25), 'cut', 'left alone', ('point', 0.25), ('defend', 0.3), ('push', 0.25)\n",
    "]\n",
    "\n",
    "flick_shots_career = search_shots_in_comms(kohli_comms, flick_search_kw, flick_exlude_words, flick_primary_kw, threshold=0.49)"
   ]
  },
  {
   "cell_type": "code",
   "execution_count": null,
   "metadata": {},
   "outputs": [],
   "source": [
    "flick_averages, flick_totals, flick_stats = af.analyse_batting(flick_shots_career)"
   ]
  },
  {
   "cell_type": "code",
   "execution_count": null,
   "metadata": {},
   "outputs": [],
   "source": [
    "flick_averages\n",
    "#Flicks mostly produce singles from Kohli, there are almost as many ones as there are dots with flicks, so this is a genrally 'safe' shot for Kohli which is quite productive."
   ]
  },
  {
   "cell_type": "code",
   "execution_count": null,
   "metadata": {},
   "outputs": [],
   "source": [
    "flick_totals"
   ]
  },
  {
   "cell_type": "code",
   "execution_count": null,
   "metadata": {},
   "outputs": [],
   "source": []
  }
 ],
 "metadata": {
  "kernelspec": {
   "display_name": "Python 3.10.4 (conda)",
   "language": "python",
   "name": "python3"
  },
  "language_info": {
   "codemirror_mode": {
    "name": "ipython",
    "version": 3
   },
   "file_extension": ".py",
   "mimetype": "text/x-python",
   "name": "python",
   "nbconvert_exporter": "python",
   "pygments_lexer": "ipython3",
   "version": "3.10.4"
  },
  "orig_nbformat": 4,
  "vscode": {
   "interpreter": {
    "hash": "035536615c0b717a4581ea42e403da8a5c2398bfe04a128383f3c4e480e06f03"
   }
  }
 },
 "nbformat": 4,
 "nbformat_minor": 2
}
