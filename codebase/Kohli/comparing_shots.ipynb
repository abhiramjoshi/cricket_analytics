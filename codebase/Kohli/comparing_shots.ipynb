{
 "cells": [
  {
   "cell_type": "code",
   "execution_count": null,
   "metadata": {},
   "outputs": [],
   "source": [
    "import codebase.web_scrape_functions as wsf\n",
    "import codebase.analysis_functions as af\n",
    "import codebase.match_data as match_data\n",
    "import pandas as pd\n",
    "import warnings\n",
    "warnings.simplefilter(action='ignore', category=FutureWarning)\n",
    "import utils\n",
    "from utils import logger\n",
    "import os\n",
    "import logging\n",
    "import matplotlib\n",
    "import matplotlib.pyplot as plt\n",
    "import seaborn as sns\n",
    "import numpy as np\n",
    "import codebase.graphing_functions as gf\n",
    "from codebase.settings import CAREERS\n",
    "from codebase.settings import LABEL_DATA\n",
    "\n",
    "if utils.check_if_ipython():\n",
    "    logger.disabled = True\n",
    "\n",
    "%load_ext autoreload\n",
    "%autoreload 2\n",
    "logger.handlers[1].setLevel(logging.INFO)\n",
    "# logger.disabled = True\n",
    "pd.get_option(\"display.max_columns\")"
   ]
  },
  {
   "cell_type": "markdown",
   "metadata": {},
   "source": [
    "First step is to get Kohli's career averges for all shots, then his averages for just specific shots and then we can find his most productive shot. The problem with searching things based off of specific shots strings only is that there is a veriety in the way that shots are described in the commentary. We would need a machine learning algorithm to work and recognize what these shots are. But first we need to create a training set which is a pain in the ass."
   ]
  },
  {
   "cell_type": "code",
   "execution_count": null,
   "metadata": {},
   "outputs": [],
   "source": [
    "KOHLI_ID = '253802'\n",
    "ROOT_PLAYER_ID = '303669'\n",
    "WILLIAMSON_PLAYER_ID = '277906'\n",
    "SPD_SMITH_ID = '267192'"
   ]
  },
  {
   "cell_type": "code",
   "execution_count": null,
   "metadata": {},
   "outputs": [],
   "source": [
    "kohli_matches = wsf.get_player_match_list(KOHLI_ID)"
   ]
  },
  {
   "cell_type": "code",
   "execution_count": null,
   "metadata": {},
   "outputs": [],
   "source": [
    "kohli_innings = af.get_cricket_totals(KOHLI_ID, kohli_matches, _type='bat', by_innings=True, is_object_id=True, from_scorecards=False)"
   ]
  },
  {
   "cell_type": "code",
   "execution_count": null,
   "metadata": {},
   "outputs": [],
   "source": [
    "kohli_comms = af.get_player_contributions(KOHLI_ID, kohli_matches, _type='bat', by_innings=True, is_object_id=True)"
   ]
  },
  {
   "cell_type": "code",
   "execution_count": null,
   "metadata": {},
   "outputs": [],
   "source": [
    "def search_shots_in_comms(contributions, search_keywords, exlude_words=[], primary_keywords=[]):\n",
    "    shots = []\n",
    "    for i, comms in enumerate(contributions):\n",
    "        innings = comms.commentTextItems.to_list()\n",
    "        search = af.search_for_keywords(innings, keywords=search_keywords, exclude_words=exlude_words, primary_keywords=primary_keywords, return_matching=True, return_indices=True)\n",
    "        shots.append(comms.iloc[search[2]])\n",
    "    \n",
    "    return shots"
   ]
  },
  {
   "cell_type": "code",
   "execution_count": null,
   "metadata": {},
   "outputs": [],
   "source": [
    "## Cover drives \n",
    "cover_drive_search_kw = [\n",
    "    'drive',\n",
    "    'cover',\n",
    "    'full and wide',\n",
    "    'outside edge',\n",
    "    'reach',\n",
    "    'slip',\n",
    "    'edge',\n",
    "    'driving'\n",
    "]\n",
    "cover_drive_exlude_words = [\n",
    "    'run out',\n",
    "    'pull', 'flick',\n",
    "    'bouncer', 'short ball', 'stays back',\n",
    "    'backfoot', 'top edge',\n",
    "    'lets one go', 'easy leave', 'leaves the ball',\n",
    "    'leg side', 'leading edge', 'leg ', 'cut', 'leg.',\n",
    "    'on the pads', 'left alone'\n",
    "]\n",
    "cover_drives_played = search_shots_in_comms(kohli_comms, cover_drive_search_kw, cover_drive_exlude_words, primary_keywords=['cover drive', 'cover-drive'])"
   ]
  },
  {
   "cell_type": "code",
   "execution_count": null,
   "metadata": {},
   "outputs": [],
   "source": [
    "cover_drive_averages, cover_drive_totals, cover_drive_stats = af.analyse_batting(cover_drives_played)"
   ]
  },
  {
   "cell_type": "code",
   "execution_count": null,
   "metadata": {},
   "outputs": [],
   "source": [
    "cover_drive_averages"
   ]
  },
  {
   "cell_type": "code",
   "execution_count": null,
   "metadata": {},
   "outputs": [],
   "source": [
    "cover_drive_totals"
   ]
  },
  {
   "cell_type": "code",
   "execution_count": null,
   "metadata": {},
   "outputs": [],
   "source": [
    "#flick\n",
    "flick_primary_kw = [\n",
    "    'flick'\n",
    "]\n",
    "flick_search_kw = [\n",
    "    'clipped',\n",
    "    'clips',\n",
    "    'pads',\n",
    "    'on the pads',\n",
    "    'leg side',\n",
    "    'off the pads',\n",
    "    'off his pads',\n",
    "    \n",
    "    'square leg',\n",
    "    'whip',\n",
    "    'on the legs'\n",
    "]\n",
    "flick_exlude_words = [\n",
    "    'run out', 'bumper', 'sweep',\n",
    "    'pull', 'drive', 'cover-drive'\n",
    "    'bouncer', 'short ball', 'stays back',\n",
    "    'backfoot', 'top edge',\n",
    "    'lets one go', 'easy leave', 'leaves the ball',\n",
    "    'off side', 'cut', 'left alone'\n",
    "]\n",
    "flick_played = search_shots_in_comms(kohli_comms, flick_search_kw, flick_exlude_words, primary_keywords=flick_primary_kw)"
   ]
  },
  {
   "cell_type": "code",
   "execution_count": null,
   "metadata": {},
   "outputs": [],
   "source": [
    "flicks = [x for comms in flick_played for x in comms.commentTextItems.to_list()]"
   ]
  },
  {
   "cell_type": "code",
   "execution_count": null,
   "metadata": {},
   "outputs": [],
   "source": [
    "len(flicks)"
   ]
  },
  {
   "cell_type": "code",
   "execution_count": null,
   "metadata": {},
   "outputs": [],
   "source": [
    "all_comms = [x for comms in kohli_comms for x in comms.commentTextItems.to_list()]"
   ]
  },
  {
   "cell_type": "code",
   "execution_count": null,
   "metadata": {},
   "outputs": [],
   "source": [
    "with open('all_comms.txt', 'w') as file:\n",
    "    for line in all_comms:\n",
    "        file.writelines(line)\n",
    "        file.writelines('\\n')"
   ]
  },
  {
   "cell_type": "code",
   "execution_count": null,
   "metadata": {},
   "outputs": [],
   "source": [
    "flick_primary_kw = [\n",
    "    'flick'\n",
    "]\n",
    "flick_search_kw = [\n",
    "    'tuck',\n",
    "    'clipped',\n",
    "    'clip',\n",
    "    ('pads', 0.3),\n",
    "    ('pad ', 0.3),\n",
    "    'on the pads',\n",
    "    #('leg side', 0.25),\n",
    "    ('leg', 0.3),\n",
    "    ('square', 0.19),\n",
    "    'glance'\n",
    "    'off the pads',\n",
    "    'off his pads',\n",
    "    ('nudge', 0.3),\n",
    "    ('pick', 0.3),\n",
    "    ('straight', 0.3),\n",
    "    #('square leg', 0.25),\n",
    "    ('whip', 0.4),\n",
    "    'on the legs',\n",
    "    ('work', 0.25),\n",
    "    ('midwicket', 0.3),\n",
    "    ('on side', 0.25),\n",
    "    ('across', 0.3)\n",
    "]\n",
    "flick_exlude_words = [\n",
    "    'run out', 'bumper', 'sweep', 'swept',\n",
    "    'pull', 'drive', 'cover-drive', ('cover', 0.3),\n",
    "    'bouncer', 'short ball', 'stays back',\n",
    "    'backfoot', 'top edge',\n",
    "    'lets one go', 'easy leave', 'leaves the ball', 'padded away',\n",
    "    ('off side', 0.25), 'cut', 'left alone', ('point', 0.25), ('defend', 0.3), ('push', 0.25)\n",
    "]\n",
    "\n",
    "kohli_comms_list = [x for comms in kohli_comms for x in comms.commentTextItems.to_list()]\n",
    "\n"
   ]
  },
  {
   "cell_type": "code",
   "execution_count": null,
   "metadata": {},
   "outputs": [],
   "source": [
    "kohli_comms_list[5]"
   ]
  },
  {
   "cell_type": "code",
   "execution_count": null,
   "metadata": {},
   "outputs": [],
   "source": [
    "ind, scores = af.search_for_phrases(kohli_comms_list, flick_search_kw, flick_exlude_words, flick_primary_kw, threshold=0.49)"
   ]
  },
  {
   "cell_type": "code",
   "execution_count": null,
   "metadata": {},
   "outputs": [],
   "source": [
    "ind, scores = af.search_for_phrases([\"Wasted bouncer, down the leg side, easy to stay out of harm's way here\"], flick_search_kw, flick_exlude_words, flick_primary_kw,)"
   ]
  },
  {
   "cell_type": "code",
   "execution_count": null,
   "metadata": {},
   "outputs": [],
   "source": [
    "flicks_p = [kohli_comms_list[i] for i,val in enumerate(ind) if val == 1]"
   ]
  },
  {
   "cell_type": "code",
   "execution_count": null,
   "metadata": {},
   "outputs": [],
   "source": [
    "len(flicks_p)"
   ]
  },
  {
   "cell_type": "code",
   "execution_count": null,
   "metadata": {},
   "outputs": [],
   "source": [
    "possible_flicks = [kohli_comms_list[i] for i,val in enumerate(scores) if val == 0.25]"
   ]
  },
  {
   "cell_type": "code",
   "execution_count": null,
   "metadata": {},
   "outputs": [],
   "source": [
    "possible_flicks"
   ]
  },
  {
   "cell_type": "code",
   "execution_count": null,
   "metadata": {},
   "outputs": [],
   "source": [
    "flicks_p_v1 = flicks_p\n",
    "possible_flicks_v1 = possible_flicks"
   ]
  },
  {
   "cell_type": "code",
   "execution_count": null,
   "metadata": {},
   "outputs": [],
   "source": [
    "len(flicks_p)"
   ]
  },
  {
   "cell_type": "code",
   "execution_count": null,
   "metadata": {},
   "outputs": [],
   "source": [
    "len(flicks_p_v1)"
   ]
  },
  {
   "cell_type": "code",
   "execution_count": null,
   "metadata": {},
   "outputs": [],
   "source": [
    "list(set(flicks_p)-set(flicks_p_v1))"
   ]
  },
  {
   "cell_type": "code",
   "execution_count": null,
   "metadata": {},
   "outputs": [],
   "source": [
    "flick_primary_kw = [\n",
    "    'flick'\n",
    "]\n",
    "flick_search_kw = [\n",
    "    'tuck',\n",
    "    'clipped',\n",
    "    'clip',\n",
    "    ('pads', 0.3),\n",
    "    ('pad ', 0.3),\n",
    "    'on the pads',\n",
    "    #('leg side', 0.25),\n",
    "    ('leg', 0.3),\n",
    "    ('square', 0.19),\n",
    "    'glance'\n",
    "    'off the pads',\n",
    "    'off his pads',\n",
    "    ('nudge', 0.3),\n",
    "    ('pick', 0.3),\n",
    "    ('straight', 0.3),\n",
    "    #('square leg', 0.25),\n",
    "    ('whip', 0.4),\n",
    "    'on the legs',\n",
    "    ('work', 0.25),\n",
    "    ('midwicket', 0.3),\n",
    "    ('on side', 0.25),\n",
    "    ('across', 0.3)\n",
    "]\n",
    "flick_exlude_words = [\n",
    "    'run out', 'bumper', 'sweep', 'swept',\n",
    "    'pull', 'drive', 'cover-drive', ('cover', 0.3),\n",
    "    'bouncer', 'short ball', 'stays back',\n",
    "    'backfoot', 'top edge',\n",
    "    'lets one go', 'easy leave', 'leaves the ball', 'padded away',\n",
    "    ('off side', 0.25), 'cut', 'left alone', ('point', 0.25), ('defend', 0.3), ('push', 0.25)\n",
    "]\n",
    "\n",
    "kohli_comms_list = [x for comms in kohli_comms for x in comms.commentTextItems.to_list()]"
   ]
  },
  {
   "cell_type": "code",
   "execution_count": null,
   "metadata": {},
   "outputs": [],
   "source": [
    "ind, scores = af.search_for_phrases([\"Big lbw appeal that amuses kohli. anderson traps him on the pad but it's a big stride and he's well outside off as this shapes back in\"], flick_search_kw, flick_exlude_words, flick_primary_kw, threshold=0.49)"
   ]
  },
  {
   "cell_type": "code",
   "execution_count": null,
   "metadata": {},
   "outputs": [],
   "source": [
    "scores"
   ]
  },
  {
   "cell_type": "code",
   "execution_count": null,
   "metadata": {},
   "outputs": [],
   "source": []
  }
 ],
 "metadata": {
  "kernelspec": {
   "display_name": "Python 3.10.4 (conda)",
   "language": "python",
   "name": "python3"
  },
  "language_info": {
   "codemirror_mode": {
    "name": "ipython",
    "version": 3
   },
   "file_extension": ".py",
   "mimetype": "text/x-python",
   "name": "python",
   "nbconvert_exporter": "python",
   "pygments_lexer": "ipython3",
   "version": "3.10.4"
  },
  "orig_nbformat": 4,
  "vscode": {
   "interpreter": {
    "hash": "035536615c0b717a4581ea42e403da8a5c2398bfe04a128383f3c4e480e06f03"
   }
  }
 },
 "nbformat": 4,
 "nbformat_minor": 2
}
