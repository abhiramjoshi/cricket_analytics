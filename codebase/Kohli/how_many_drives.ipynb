{
 "cells": [
  {
   "cell_type": "code",
   "execution_count": null,
   "metadata": {},
   "outputs": [],
   "source": [
    "import codebase.web_scrape_functions as wsf\n",
    "import codebase.analysis_functions as af\n",
    "import codebase.match_data as match_data\n",
    "import pandas as pd\n",
    "import warnings\n",
    "warnings.simplefilter(action='ignore', category=FutureWarning)\n",
    "import utils\n",
    "from utils import logger\n",
    "import os\n",
    "import logging\n",
    "import matplotlib\n",
    "import matplotlib.pyplot as plt\n",
    "import seaborn as sns\n",
    "import numpy as np\n",
    "import codebase.graphing_functions as gf\n",
    "from codebase.settings import CAREERS\n",
    "from codebase.settings import LABEL_DATA\n",
    "\n",
    "if utils.check_if_ipython():\n",
    "    logger.disabled = True\n",
    "\n",
    "%load_ext autoreload\n",
    "%autoreload 2\n",
    "logger.handlers[1].setLevel(logging.INFO)\n",
    "# logger.disabled = True\n",
    "pd.get_option(\"display.max_columns\")"
   ]
  },
  {
   "cell_type": "code",
   "execution_count": null,
   "metadata": {},
   "outputs": [],
   "source": [
    "KOHLI_ID = '253802'\n",
    "ROOT_PLAYER_ID = '303669'\n",
    "WILLIAMSON_PLAYER_ID = '277906'\n",
    "SPD_SMITH_ID = '267192'"
   ]
  },
  {
   "cell_type": "markdown",
   "metadata": {},
   "source": [
    "Lets do a deep dive into Kohli's drives and innings in general. First lets do a few basic questions, average length of Kohli's innings, scores, minutes, etc."
   ]
  },
  {
   "cell_type": "code",
   "execution_count": null,
   "metadata": {},
   "outputs": [],
   "source": [
    "kohli_matches = wsf.get_player_match_list(KOHLI_ID)\n"
   ]
  },
  {
   "cell_type": "code",
   "execution_count": null,
   "metadata": {},
   "outputs": [],
   "source": [
    "kohli_innings = af.get_cricket_totals(KOHLI_ID, kohli_matches, _type='bat', by_innings=True, is_object_id=True)\n",
    "kohli_innings_df = pd.DataFrame(kohli_innings)"
   ]
  },
  {
   "cell_type": "code",
   "execution_count": null,
   "metadata": {},
   "outputs": [],
   "source": [
    "kohli_innings_df.head()"
   ]
  },
  {
   "cell_type": "code",
   "execution_count": null,
   "metadata": {},
   "outputs": [],
   "source": [
    "kohli_innings_df.describe()"
   ]
  },
  {
   "cell_type": "code",
   "execution_count": null,
   "metadata": {},
   "outputs": [],
   "source": [
    "pd.cut(kohli_innings_df.balls_faced, [0,10,20,30,40,50,100,150,200, float(\"inf\")]).value_counts()"
   ]
  },
  {
   "cell_type": "markdown",
   "metadata": {},
   "source": [
    "Ok now back to the cover drives, we will deep dive, how many cover drives does he play in each bin, and the average of those cover drives. We wanna see if there is a trend in when he plays the shot and the average. First lets get all commentary and then we can filter the innings based on the bins and match to commentary"
   ]
  },
  {
   "cell_type": "markdown",
   "metadata": {},
   "source": [
    "## Get all commentary from match and turn it to list"
   ]
  },
  {
   "cell_type": "code",
   "execution_count": null,
   "metadata": {},
   "outputs": [],
   "source": [
    "kohli_comms = af.get_player_contributions(KOHLI_ID, kohli_matches, _type = 'bat', by_innings=True, is_object_id=True)"
   ]
  },
  {
   "cell_type": "code",
   "execution_count": null,
   "metadata": {},
   "outputs": [],
   "source": [
    "kohli_comms[0].commentTextItems.tolist()"
   ]
  },
  {
   "cell_type": "markdown",
   "metadata": {},
   "source": [
    "We have all the innings commentary, no lets get just the commentTextItems and then we can search in those to see when the commentary is cover drives"
   ]
  },
  {
   "cell_type": "code",
   "execution_count": null,
   "metadata": {},
   "outputs": [],
   "source": [
    "commentary = []\n",
    "for match in kohli_comms:\n",
    "    commentary.append(match.commentTextItems.tolist())"
   ]
  },
  {
   "cell_type": "markdown",
   "metadata": {},
   "source": [
    "## Searching for cover drives"
   ]
  },
  {
   "cell_type": "code",
   "execution_count": null,
   "metadata": {},
   "outputs": [],
   "source": [
    "cover_drives = []\n",
    "for inning in commentary:\n",
    "    cover_drives.append(af.search_for_keywords(inning, ['drive', 'cover', 'defending', 'defence', 'defends'], exclude_words=['run out', 'pull', 'flick'],return_matching=True, return_indices=True))"
   ]
  },
  {
   "cell_type": "code",
   "execution_count": null,
   "metadata": {},
   "outputs": [],
   "source": [
    "cover_drives[3][2]"
   ]
  },
  {
   "cell_type": "code",
   "execution_count": null,
   "metadata": {},
   "outputs": [],
   "source": [
    "cover_drives[3][1]"
   ]
  },
  {
   "cell_type": "markdown",
   "metadata": {},
   "source": [
    "Now that we have the deliveries that kohli played drives to, we can reference this back to the df and pick out all the rows where he played a cover drive. Then we can get the average off the cover drive and dismissals etc. Next we will need to do this for other shots and start to build a picture of how Kohli gets out."
   ]
  },
  {
   "cell_type": "code",
   "execution_count": null,
   "metadata": {},
   "outputs": [],
   "source": [
    "cover_drive_df = pd.DataFrame()\n",
    "for i,inning in enumerate(cover_drives):\n",
    "    indices = inning[2]\n",
    "    cover_drive_df = pd.concat([cover_drive_df, kohli_comms[i].iloc[indices]])"
   ]
  },
  {
   "cell_type": "code",
   "execution_count": null,
   "metadata": {},
   "outputs": [],
   "source": [
    "cover_drive_df[cover_drive_df['isWicket'] == True].count()"
   ]
  },
  {
   "cell_type": "markdown",
   "metadata": {},
   "source": [
    "Only 36 dismissals with cover drive in them, would have thought there were way more. What are the other ways Kohli is getting out? Lets create a dictionary of words that are appearing in Kohli dismissals. First we need to get all the dismissals."
   ]
  },
  {
   "cell_type": "markdown",
   "metadata": {},
   "source": [
    "## Get all dismissals"
   ]
  },
  {
   "cell_type": "code",
   "execution_count": null,
   "metadata": {},
   "outputs": [],
   "source": [
    "kohli_comms_flat = pd.DataFrame()\n",
    "for comms in kohli_comms:\n",
    "    kohli_comms_flat = pd.concat([kohli_comms_flat, comms])"
   ]
  },
  {
   "cell_type": "code",
   "execution_count": null,
   "metadata": {},
   "outputs": [],
   "source": [
    "kohli_comms_flat[kohli_comms_flat.isWicket == True].count()"
   ]
  },
  {
   "cell_type": "code",
   "execution_count": null,
   "metadata": {},
   "outputs": [],
   "source": [
    "kohli_dismissals = kohli_comms_flat[(kohli_comms_flat.isWicket == True) & (kohli_comms_flat.batsmanPlayerId == int(af.get_player_map(match_data.MatchData(kohli_matches[0]), 'player_id', 'object_id')[int(KOHLI_ID)]))]"
   ]
  },
  {
   "cell_type": "code",
   "execution_count": null,
   "metadata": {},
   "outputs": [],
   "source": [
    "dismissals_list = kohli_dismissals.commentTextItems.to_list()"
   ]
  },
  {
   "cell_type": "code",
   "execution_count": null,
   "metadata": {},
   "outputs": [],
   "source": [
    "dismissals_list"
   ]
  },
  {
   "cell_type": "code",
   "execution_count": null,
   "metadata": {},
   "outputs": [],
   "source": [
    "cover_drive_dismissals = cover_drive_df[cover_drive_df['isWicket'] == True].commentTextItems.to_list()"
   ]
  },
  {
   "cell_type": "code",
   "execution_count": null,
   "metadata": {},
   "outputs": [],
   "source": [
    "cover_drive_dismissals"
   ]
  },
  {
   "cell_type": "code",
   "execution_count": null,
   "metadata": {},
   "outputs": [],
   "source": [
    "import nltk\n",
    "from nltk.corpus import stopwords\n",
    "exclude_words = set(stopwords.words('english'))\n",
    "exclude_words"
   ]
  },
  {
   "cell_type": "code",
   "execution_count": null,
   "metadata": {},
   "outputs": [],
   "source": [
    "import string\n",
    "\n",
    "vocabulary = {}\n",
    "\n",
    "for dismissal in dismissals_list:\n",
    "    dismissal = dismissal.translate(str.maketrans('', '', string.punctuation))\n",
    "    wordlist = dismissal.split(' ')\n",
    "    for word in wordlist:\n",
    "        if word not in exclude_words:\n",
    "            try:\n",
    "                vocabulary[word] += 1\n",
    "            except KeyError:\n",
    "                vocabulary[word] = 1\n"
   ]
  },
  {
   "cell_type": "code",
   "execution_count": null,
   "metadata": {},
   "outputs": [],
   "source": [
    "vocabulary['edge']"
   ]
  },
  {
   "cell_type": "markdown",
   "metadata": {},
   "source": [
    "The above 70 is the number of times dismissals contain the word edge in them. Lets see all these dismissals and see the pattern of words that will allow us to catch outside edge. I think that the best way to make sure that we have all the correct words is to get sets of dismissals from different phrases and then take the intercept of all these dismissals."
   ]
  },
  {
   "cell_type": "markdown",
   "metadata": {},
   "source": [
    "Let us no search all dismissals and find the times they contain edge"
   ]
  },
  {
   "cell_type": "code",
   "execution_count": null,
   "metadata": {},
   "outputs": [],
   "source": [
    "edge_dismissals = af.search_for_keywords(dismissals_list, keywords=['outside edge', 'drive', 'outside off', 'reach', 'slip'], exclude_words = ['top edge', 'top-edge'], return_matching=True)"
   ]
  },
  {
   "cell_type": "code",
   "execution_count": null,
   "metadata": {},
   "outputs": [],
   "source": [
    "edge_dismissals[1]"
   ]
  },
  {
   "cell_type": "markdown",
   "metadata": {},
   "source": [
    "Ok, so we manually went through and labelled a number of dismissals, let us load these back in and then we can properly see how many of Kohli's dismissals were actually becuase of driving or cover driving in general."
   ]
  },
  {
   "cell_type": "code",
   "execution_count": null,
   "metadata": {},
   "outputs": [],
   "source": [
    "yes_count = 0\n",
    "yes_dismissals = []\n",
    "with open(os.path.join(LABEL_DATA, 'labelled_drive_dismisals.txt'), 'r') as file:\n",
    "    for line in file.readlines():\n",
    "        line = line.split('label:')\n",
    "        label = line[1]\n",
    "        if label.strip().lower() == 'yes':\n",
    "            yes_count += 1\n",
    "            yes_dismissals.append(line[0])\n",
    "\n",
    "print(\"Kohli's dismissals that are cover drives:\")\n",
    "print(yes_count)"
   ]
  },
  {
   "cell_type": "markdown",
   "metadata": {},
   "source": [
    "Let us now trend these dismissals. I want to know the average score of all these dismissals and I want to know how early in the innings that each of these dismissals happened. For this we are gonna need contributions, as well as knowing what match these drives happened in. From the match function we can get the index of every one of these dismissals and then we can use that and our label ones and zeros to basically figure out which inning the dismisal was in. Or maybe a better way is to get the match id of each of the dismissals. "
   ]
  },
  {
   "cell_type": "markdown",
   "metadata": {},
   "source": [
    "Objctive: Get the match id of every one of the cover drive dismissals."
   ]
  },
  {
   "cell_type": "code",
   "execution_count": null,
   "metadata": {},
   "outputs": [],
   "source": [
    "# yes_dismissals[0]"
   ]
  },
  {
   "cell_type": "code",
   "execution_count": null,
   "metadata": {},
   "outputs": [],
   "source": [
    "# drive_dismissal_indices = []\n",
    "# j = 0\n",
    "# for i,dismissal in enumerate(dismissals_list):\n",
    "#     print(dismissal.strip('\"').strip(\"'\").strip().lower(), yes_dismissals[j].strip('\"').strip(\"'\").strip().lower())\n",
    "#     if dismissal.strip('\"').strip(\"'\").strip().lower()[:30] == yes_dismissals[j].strip('\"').strip(\"'\").strip().lower()[:30]:\n",
    "#         j += 1\n",
    "#         drive_dismissal_indices.append(i)\n"
   ]
  },
  {
   "cell_type": "code",
   "execution_count": null,
   "metadata": {},
   "outputs": [],
   "source": [
    "KOHLI_ID_COMMS = int(af.get_player_map(match_data.MatchData(kohli_matches[0]), 'player_id', 'object_id')[int(KOHLI_ID)])\n",
    "drive_dismissal_indices = []\n",
    "j = 0\n",
    "for i, _match in enumerate(kohli_comms):\n",
    "    try:\n",
    "        dismissal = _match.iloc[-1]\n",
    "        #dismissal = _match[(_match.isWicket == True) & (_match.batsmanPlayerId == KOHLI_ID_COMMS)]\n",
    "        dismissal = dismissal.commentTextItems\n",
    "        #print(dismissal.strip('\"').strip(\"'\").strip().lower()[:30])\n",
    "        #print(yes_dismissals[j].strip('\"').strip(\"'\").strip().lower()[:30])\n",
    "        if dismissal.strip('\"').strip(\"'\").strip().lower()[:30] == yes_dismissals[j].strip('\"').strip(\"'\").strip().lower()[:30]:\n",
    "            j += 1\n",
    "            drive_dismissal_indices.append(i)\n",
    "    except IndexError:\n",
    "        pass\n",
    "        #print(dismissal)\n",
    "\n"
   ]
  },
  {
   "cell_type": "code",
   "execution_count": null,
   "metadata": {},
   "outputs": [],
   "source": [
    "drive_dismissal_indices #index out of the total innings of innings where Kohli has got out playing a drive"
   ]
  },
  {
   "cell_type": "code",
   "execution_count": null,
   "metadata": {},
   "outputs": [],
   "source": [
    "match_list_by_inning = [inning['match_id'] for inning in kohli_innings]"
   ]
  },
  {
   "cell_type": "code",
   "execution_count": null,
   "metadata": {},
   "outputs": [],
   "source": [
    "len(match_list_by_inning)"
   ]
  },
  {
   "cell_type": "code",
   "execution_count": null,
   "metadata": {},
   "outputs": [],
   "source": [
    "cover_drive_dismissal_match_ids = [match_list_by_inning[i] for i in drive_dismissal_indices]"
   ]
  },
  {
   "cell_type": "code",
   "execution_count": null,
   "metadata": {},
   "outputs": [],
   "source": [
    "cover_drive_dismissal_match_ids #match id of matches where kohli is dismissed by the cover drive"
   ]
  },
  {
   "cell_type": "markdown",
   "metadata": {},
   "source": [
    "Now that we have the cover drive match ids, we can figure out if there is a trend in how early these dismissals are happening, is it the case that Kohli gets out in different ways based on how many balls he has faced, does he get out to cover drives only early in his innings, and finally, how many cover drives does Kohli play in this innings where he gets out to cover drives"
   ]
  },
  {
   "cell_type": "code",
   "execution_count": null,
   "metadata": {},
   "outputs": [],
   "source": [
    "cover_drive_match_totals = [kohli_innings[i] for i in drive_dismissal_indices] #match totals of matches where kohli got out playing cover drive"
   ]
  },
  {
   "cell_type": "code",
   "execution_count": null,
   "metadata": {},
   "outputs": [],
   "source": [
    "cover_drive_match_totals_df = pd.DataFrame(cover_drive_match_totals)\n",
    "cover_drive_match_totals_df.head()"
   ]
  },
  {
   "cell_type": "code",
   "execution_count": null,
   "metadata": {},
   "outputs": [],
   "source": [
    "cover_drive_match_totals_df.describe()"
   ]
  },
  {
   "cell_type": "markdown",
   "metadata": {},
   "source": [
    "That is very very interesting, Kohli's innings when he gets out from driving look much the same as his normal stats. Nothing drastically different."
   ]
  },
  {
   "cell_type": "markdown",
   "metadata": {},
   "source": [
    "NOTE: Side concern is that we want to only sum the rows that have an out in their out column. If the batsman is not out then we want to skip. So let us quickly modify the describe function, so that before we apply describe, we want to get rid of these rows, or we can add the run total to the row above and then we can describe again."
   ]
  },
  {
   "cell_type": "markdown",
   "metadata": {},
   "source": [
    "Ok now let us count how many cover drives Kohli plays in every one of these innings, and then we can also see the average of these cover drives and check if there are any trends wrt to balls faced and cover drives, or average run scored, cover drives played per innings, cover drives \"in control\" vs \"out of control\""
   ]
  },
  {
   "cell_type": "markdown",
   "metadata": {},
   "source": [
    "Lets start with getting all the cover drives played from the innings where Kohli is dismissed by cover drives."
   ]
  },
  {
   "cell_type": "code",
   "execution_count": null,
   "metadata": {},
   "outputs": [],
   "source": [
    "cover_drive_inning_comms = [kohli_comms[i] for i in drive_dismissal_indices] #innings comms for matches where Kohli has got out to a cover drive"
   ]
  },
  {
   "cell_type": "code",
   "execution_count": null,
   "metadata": {},
   "outputs": [],
   "source": [
    "cover_drive_inning_comms[0].commentTextItems.to_list()"
   ]
  },
  {
   "cell_type": "code",
   "execution_count": null,
   "metadata": {},
   "outputs": [],
   "source": [
    "cover_drives_in_innings = []\n",
    "for i, comms in enumerate(cover_drive_inning_comms):\n",
    "    innings = comms.commentTextItems.to_list()\n",
    "    search = af.search_for_keywords(innings, ['drive', 'cover drive', 'full and wide', 'outside edge', 'reach', 'slip', 'edge'], exclude_words=['run out', 'pull', 'flicks', 'bouncer', 'short ball', 'stays back', 'backfoot', 'top edge', 'top-edge', 'lets one go', 'easy leave', 'leaves the ball'],return_matching=True, return_indices=True)\n",
    "    cover_drives_in_innings.append(comms.iloc[search[2]])\n",
    "    ## Everything here is identified as cover drive dismissals anyways, so we will make sure to add the dismissal if the dismissal is not there.\n",
    "    if int(comms.shape[0]-1) not in search[2]: #Not working properly, all dismissals are being appended again.\n",
    "        try:\n",
    "            cover_drives_in_innings[i] = cover_drives_in_innings[i].append(comms.iloc[-1], ignore_index=True)\n",
    "        except IndexError as e:\n",
    "            cover_drives_in_innings.append(comms.iloc[-1])"
   ]
  },
  {
   "cell_type": "code",
   "execution_count": null,
   "metadata": {},
   "outputs": [],
   "source": [
    "# _cover_drives_in_innings = []\n",
    "# comms = cover_drive_inning_comms[34]\n",
    "# innings = comms.commentTextItems.to_list()\n",
    "# search = af.search_for_keywords(innings, ['drive', 'cover drive', 'full and wide', 'outside edge', 'reach', 'slip', 'edge'], exclude_words=['run out', 'pull', 'flicks', 'bouncer', 'short ball', 'stays back', 'backfoot', 'top edge', 'top-edge', 'lets one go', 'easy leave', 'leaves the ball'],return_matching=True, return_indices=True)\n",
    "# _cover_drives_in_innings.append(comms.iloc[search[2]])\n",
    "# ## Everything here is identified as cover drive dismissals anyways, so we will make sure to add the dismissal if the dismissal is not there.\n",
    "# if int(comms.shape[0]) not in search[2]:\n",
    "#     print(search[2])\n",
    "#     try:\n",
    "#         _cover_drives_in_innings.append(comms.iloc[-1])\n",
    "#     except TypeError:\n",
    "#         _cover_drives_in_innings.append(comms.iloc[-1])"
   ]
  },
  {
   "cell_type": "code",
   "execution_count": null,
   "metadata": {},
   "outputs": [],
   "source": [
    "#_cover_drives_in_innings"
   ]
  },
  {
   "cell_type": "code",
   "execution_count": null,
   "metadata": {},
   "outputs": [],
   "source": [
    "#cover_drives_in_innings[14][cover_drives_in_innings[14].isWicket == True]"
   ]
  },
  {
   "cell_type": "markdown",
   "metadata": {},
   "source": []
  },
  {
   "cell_type": "markdown",
   "metadata": {},
   "source": [
    "Ok, now we can describe all these dataframes, and as long as the dataframes only contain cover drives, then we can get the stats we need, average runs per cover drive, how many over drives in the innings, the length of the innings on average and runs scored in the innings. Later on we can try to find out if we can figure out a way to see if Kohli is in control. Again it will be a matter of finding key words."
   ]
  },
  {
   "cell_type": "markdown",
   "metadata": {},
   "source": [
    "I think we need to make our own describe function to account for the not outs and cricket dismissals. Ok what we want is average per shot, strike rate, dismissals."
   ]
  },
  {
   "cell_type": "code",
   "execution_count": null,
   "metadata": {},
   "outputs": [],
   "source": [
    "# def analyse_batting(contributuion):\n",
    "#     def safe_divide(numerator, denominator, _round=2):\n",
    "#         try:\n",
    "#             return round(numerator/denominator, 2)\n",
    "#         except ZeroDivisionError:\n",
    "#             return float('inf')\n",
    "\n",
    "#     runs = contributuion.batsmanRuns.sum()\n",
    "#     dismissals = contributuion[contributuion.isWicket == True].count().isWicket\n",
    "#     balls = contributuion.shape[0]\n",
    "#     strike_rate = safe_divide(runs, balls)\n",
    "#     dot_balls = contributuion[contributuion.batsmanRuns == 0.0].count().batsmanRuns\n",
    "#     fours = contributuion[contributuion.isFour == True].count().isFour\n",
    "#     sixes = contributuion[contributuion.isSix == True].count().isSix\n",
    "#     average = safe_divide(runs, dismissals)\n",
    "#     how_out = af.how_out(contributuion.iloc[-1].dismissalType)\n",
    "#     total_balls_faced = contributuion.iloc[-1].batsmanBallsFaced\n",
    "#     fours_per_ball = safe_divide(fours, balls)\n",
    "#     sixes_per_ball = safe_divide(sixes, balls)\n",
    "#     dots_per_ball = safe_divide(dot_balls, balls)\n",
    "    \n",
    "#     #In control, out of control\n",
    "#     return {\n",
    "#         'runs': runs,\n",
    "#         'dismissals': dismissals,\n",
    "#         'balls':balls,\n",
    "#         'sr':strike_rate,\n",
    "#         'average': average,\n",
    "#         'dot_balls': dot_balls,\n",
    "#         'fours': fours,\n",
    "#         'sixes': sixes,\n",
    "#         'how-out': how_out,\n",
    "#         'total_balls_faced': total_balls_faced,\n",
    "#         'fours_per_ball': fours_per_ball,\n",
    "#         'sixes_per_ball': sixes_per_ball,\n",
    "#         'dots_per_ball': dots_per_ball\n",
    "#     }"
   ]
  },
  {
   "cell_type": "code",
   "execution_count": null,
   "metadata": {},
   "outputs": [],
   "source": [
    "# def aggregate_batting_analysis(batting_stats):\n",
    "#     \"\"\"Takes list of batting stat objects and returns aggregate stats\"\"\"\n",
    "#     averages = {}\n",
    "#     totals = {}\n",
    "#     keys = list(batting_stats[0].keys())\n",
    "#     for key in keys:\n",
    "#         try:\n",
    "#             total = sum([i[key] for i in batting_stats])\n",
    "#             av = total/len(batting_stats)\n",
    "#             totals[key] = total\n",
    "#             averages[key] = round(av,2)\n",
    "#         except TypeError as e:\n",
    "#             pass\n",
    "#         except ZeroDivisionError:\n",
    "#             av = float('inf')\n",
    "\n",
    "    \n",
    "#     return averages, totals"
   ]
  },
  {
   "cell_type": "markdown",
   "metadata": {},
   "source": [
    "Ok, so now we got the stats we need for the cover drive, lets do this for other shots and lets also compare this to the baseline. Also we need to get averages, and everything for all these values. Lets create a function that when given a list of these batting analysis objects will return us back the average runs, average sr, the average balls faced, the total balls faced, percentage of shots resulting in boundaries, percentage of shots resulting in sixes, percentage of dot balls."
   ]
  },
  {
   "cell_type": "code",
   "execution_count": null,
   "metadata": {},
   "outputs": [],
   "source": [
    "aves, tots, cover_drive_stats = af.analyse_batting(cover_drives_in_innings)"
   ]
  },
  {
   "cell_type": "code",
   "execution_count": null,
   "metadata": {},
   "outputs": [],
   "source": [
    "aves"
   ]
  },
  {
   "cell_type": "code",
   "execution_count": null,
   "metadata": {},
   "outputs": [],
   "source": [
    "tots"
   ]
  },
  {
   "cell_type": "markdown",
   "metadata": {},
   "source": [
    "First lets start with this same batting analysis of cover drives on all his innings. Lets find out compared to innings he does not get out on cover drives, if they are the same as the innings he does get out on the cover drive. The main thing that we are trying to find here is simply if the cover drive is a shot that affects his batting negatively or not."
   ]
  },
  {
   "cell_type": "code",
   "execution_count": null,
   "metadata": {},
   "outputs": [],
   "source": [
    "# I wanna do a quick sanity check on my batting analysis functions, make sure that they are giving me the correct results, so we will do the batting analysis on Kohli's whole career.\n",
    "# So the analysis function takes contributions, we will need to loop through all of those and then apply the aggregate batting function\n",
    "kohli_career_averages, kohli_career_totals, kohli_career_batting_stats = af.analyse_batting(kohli_comms)"
   ]
  },
  {
   "cell_type": "code",
   "execution_count": null,
   "metadata": {},
   "outputs": [],
   "source": [
    "kohli_career_averages"
   ]
  },
  {
   "cell_type": "code",
   "execution_count": null,
   "metadata": {},
   "outputs": [],
   "source": [
    "kohli_career_totals"
   ]
  },
  {
   "cell_type": "code",
   "execution_count": null,
   "metadata": {},
   "outputs": [],
   "source": [
    "#Ok the stats are almost correct, they count the runs accurately, and surely the balls as well, just need to find out why there are 42 more balls in virat's career."
   ]
  },
  {
   "cell_type": "code",
   "execution_count": null,
   "metadata": {},
   "outputs": [],
   "source": [
    "cover_drives_in_innings_full = []\n",
    "for i, comms in enumerate(kohli_comms):\n",
    "    innings = comms.commentTextItems.to_list()\n",
    "    search = af.search_for_keywords(innings, ['drive', 'cover drive', 'full and wide', 'outside edge', 'reach', 'slip', 'edge'], exclude_words=['run out', 'pull', 'flicks', 'bouncer', 'short ball', 'stays back', 'backfoot', 'top edge', 'top-edge', 'lets one go', 'easy leave', 'leaves the ball', 'leg side', 'leading edge', 'leg ', 'cut '],return_matching=True, return_indices=True)\n",
    "    cover_drives_in_innings_full.append(comms.iloc[search[2]])\n",
    "    ## Everything here is identified as cover drive dismissals anyways, so we will make sure to add the dismissal if the dismissal is not there.\n",
    "    # if int(comms.shape[0]-1) not in search[2]: \n",
    "    #     try:\n",
    "    #         cover_drives_in_innings_full[i] = cover_drives_in_innings_full[i].append(comms.iloc[-1], ignore_index=True)\n",
    "    #     except IndexError as e:\n",
    "    #         cover_drives_in_innings_full.append(comms.iloc[-1])"
   ]
  },
  {
   "cell_type": "code",
   "execution_count": null,
   "metadata": {},
   "outputs": [],
   "source": [
    "[len(x) for x in cover_drives_in_innings_full]"
   ]
  },
  {
   "cell_type": "code",
   "execution_count": null,
   "metadata": {},
   "outputs": [],
   "source": [
    "cover_drive_averages, cover_drive_totals, cover_drive_career_stats =  af.analyse_batting(cover_drives_in_innings_full)"
   ]
  },
  {
   "cell_type": "code",
   "execution_count": null,
   "metadata": {},
   "outputs": [],
   "source": [
    "cover_drive_averages"
   ]
  },
  {
   "cell_type": "code",
   "execution_count": null,
   "metadata": {},
   "outputs": [],
   "source": [
    "cover_drive_totals"
   ]
  },
  {
   "cell_type": "code",
   "execution_count": null,
   "metadata": {},
   "outputs": [],
   "source": [
    "[x['how-out'] if x else False for x in cover_drive_career_stats]"
   ]
  },
  {
   "cell_type": "code",
   "execution_count": null,
   "metadata": {},
   "outputs": [],
   "source": [
    "for i, dismissal in enumerate([x['how-out'] if x else False for x in cover_drive_career_stats]):\n",
    "    if bool(dismissal):\n",
    "        print(kohli_comms[i].iloc[-1].commentTextItems)\n",
    "    "
   ]
  },
  {
   "cell_type": "code",
   "execution_count": null,
   "metadata": {},
   "outputs": [],
   "source": []
  }
 ],
 "metadata": {
  "kernelspec": {
   "display_name": "Python 3.10.8 ('cricket_analytics': venv)",
   "language": "python",
   "name": "python3"
  },
  "language_info": {
   "codemirror_mode": {
    "name": "ipython",
    "version": 3
   },
   "file_extension": ".py",
   "mimetype": "text/x-python",
   "name": "python",
   "nbconvert_exporter": "python",
   "pygments_lexer": "ipython3",
   "version": "3.10.8"
  },
  "orig_nbformat": 4,
  "vscode": {
   "interpreter": {
    "hash": "a33ae892c4567ae3ea2deb280f4885331b412a5a0672b4613c88c46331c3d937"
   }
  }
 },
 "nbformat": 4,
 "nbformat_minor": 2
}
