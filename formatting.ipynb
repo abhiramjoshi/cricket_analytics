{
 "cells": [
  {
   "cell_type": "code",
   "execution_count": null,
   "metadata": {},
   "outputs": [],
   "source": [
    "import codebase.match_data as match\n",
    "import codebase.settings as settings\n",
    "import pandas as pd\n",
    "import numpy as np\n",
    "from pprint import pprint\n",
    "import matplotlib as plt\n",
    "import seaborn as sns\n",
    "import codebase.analysis_functions as af\n",
    "import codebase.web_scrape_functions as wsf\n",
    "from utils import logger\n",
    "\n",
    "m  = match.MatchData('1263466')\n",
    "%load_ext autoreload\n",
    "%autoreload 2"
   ]
  },
  {
   "cell_type": "code",
   "execution_count": null,
   "metadata": {},
   "outputs": [],
   "source": [
    "top_players = wsf.read_statsguru('https://stats.espncricinfo.com/ci/engine/stats/index.html?class=1;filter=advanced;orderby=batting_average;qualmin1=30;qualval1=matches;template=results;type=batting', table_name='Overall figures')\n",
    "top_players = pd.DataFrame(top_players[0])\n",
    "top_players.head()\n",
    "top_players.Player = [wsf.player_id_from_link(player, playername=False)[1] for player in top_players.Player]\n",
    "top_players.head()\n",
    "match_list = []\n",
    "for player in top_players.Player:\n",
    "    match_list += wsf.player_match_list(player)\n",
    "\n",
    "set([int(id) for id in match_list])\n",
    "len(match_list)"
   ]
  },
  {
   "cell_type": "code",
   "execution_count": null,
   "metadata": {},
   "outputs": [],
   "source": [
    "import os\n",
    "\n",
    "for _match in match_list:\n",
    "    if os.path.exists(os.path.join(\"D:\\Documents\\Cricket\\data_analysis\\cricket_data_analysis\\data\\match_jsons\", f\"{_match}_match_jsons.json\")):\n",
    "        logger.info(\"Skipping as match %s already exists\", _match)\n",
    "        continue\n",
    "    match.MatchData(match_id=_match)"
   ]
  },
  {
   "cell_type": "code",
   "execution_count": null,
   "metadata": {},
   "outputs": [],
   "source": [
    "PLAYER_ID = '49496'"
   ]
  },
  {
   "cell_type": "code",
   "execution_count": null,
   "metadata": {},
   "outputs": [],
   "source": [
    "cw_bowl = af.get_player_contribution(PLAYER_ID, m, 'bowl')\n",
    "cw_bowl.sum()"
   ]
  },
  {
   "cell_type": "code",
   "execution_count": null,
   "metadata": {},
   "outputs": [],
   "source": [
    "player_map = {int(player['player_id']):player['card_long'] for player in m.all_players}\n",
    "pprint(m.__dict__.keys())"
   ]
  },
  {
   "cell_type": "code",
   "execution_count": null,
   "metadata": {},
   "outputs": [],
   "source": [
    "fifth_ashes_test = pd.DataFrame.from_dict(m.get_full_comms())\n",
    "fifth_ashes_test = fifth_ashes_test.dropna(how='all', axis=1)\n",
    "fifth_ashes_test.keys()"
   ]
  },
  {
   "cell_type": "code",
   "execution_count": null,
   "metadata": {},
   "outputs": [],
   "source": [
    "fifth_ashes_test.head()"
   ]
  },
  {
   "cell_type": "code",
   "execution_count": null,
   "metadata": {},
   "outputs": [],
   "source": [
    "all_fours = fifth_ashes_test[fifth_ashes_test.isFour == True]\n"
   ]
  },
  {
   "cell_type": "code",
   "execution_count": null,
   "metadata": {},
   "outputs": [],
   "source": [
    "all_fours[\"batsman_name\"] = all_fours[\"batsmanPlayerId\"].map(player_map)\n",
    "all_fours.batsman_name.value_counts()"
   ]
  },
  {
   "cell_type": "code",
   "execution_count": null,
   "metadata": {},
   "outputs": [],
   "source": [
    "sns.set_theme(style='darkgrid')\n",
    "df = pd.DataFrame(all_fours.batsman_name.value_counts()).rename(columns={'batsman_name': 'boundary_counts'})\n",
    "df['batsman'] = df.index\n",
    "df.reset_index(drop=True, inplace=True)\n",
    "fig_dims = (15,10)\n",
    "fig,ax = plt.pyplot.subplots(figsize=fig_dims)\n",
    "bar = sns.barplot(data=df, x='batsman', y='boundary_counts', palette='Blues_d', ax=ax)\n",
    "x_labels = bar.get_xticklabels();\n",
    "bar.set_xticklabels(x_labels, rotation=90);"
   ]
  },
  {
   "cell_type": "code",
   "execution_count": null,
   "metadata": {},
   "outputs": [],
   "source": [
    "af.get_player_map(m)\n",
    "wickets = af.get_balls_event(fifth_ashes_test, 'isWicket', True)\n",
    "af.map_players(m, wickets)\n",
    "wickets_df = af.series_to_df(wickets.bowlerName.value_counts(), ['bowlerName', 'Wickets'])\n",
    "af.graph_seaborn_barplot(wickets_df, 'bowlerName', 'Wickets');"
   ]
  },
  {
   "cell_type": "code",
   "execution_count": null,
   "metadata": {},
   "outputs": [],
   "source": [
    "af.get_aggregates(m, 'wickets')"
   ]
  },
  {
   "cell_type": "code",
   "execution_count": null,
   "metadata": {},
   "outputs": [],
   "source": [
    "af.get_aggregates(m, 'bat-fours')"
   ]
  },
  {
   "cell_type": "code",
   "execution_count": null,
   "metadata": {},
   "outputs": [],
   "source": [
    "af.get_aggregates(m, 'bowl-sixes')"
   ]
  },
  {
   "cell_type": "code",
   "execution_count": null,
   "metadata": {},
   "outputs": [],
   "source": [
    "event_df = af.get_aggregates(m, 'bat-runs')\n",
    "event_df"
   ]
  },
  {
   "cell_type": "code",
   "execution_count": null,
   "metadata": {},
   "outputs": [],
   "source": [
    "af.get_aggregates(m, 'bowl-runs')"
   ]
  },
  {
   "cell_type": "code",
   "execution_count": null,
   "metadata": {},
   "outputs": [],
   "source": [
    "test_comms = fifth_ashes_test.copy()\n",
    "af.process_text_comms(test_comms)\n",
    "test_comms.head()"
   ]
  },
  {
   "cell_type": "code",
   "execution_count": null,
   "metadata": {},
   "outputs": [],
   "source": [
    "print(test_comms.iloc[0,24])\n",
    "af.remove_html(test_comms.iloc[0,24])"
   ]
  },
  {
   "cell_type": "code",
   "execution_count": null,
   "metadata": {},
   "outputs": [],
   "source": [
    "print(test_comms.iloc[0,2])"
   ]
  },
  {
   "cell_type": "code",
   "execution_count": null,
   "metadata": {},
   "outputs": [],
   "source": [
    "comment_example = test_comms.iloc[0,2]"
   ]
  },
  {
   "cell_type": "code",
   "execution_count": null,
   "metadata": {},
   "outputs": [],
   "source": [
    "type(comment_example[0])"
   ]
  },
  {
   "cell_type": "code",
   "execution_count": null,
   "metadata": {},
   "outputs": [],
   "source": [
    "html_coms = test_comms.iloc[:,2].to_frame()\n",
    "html_coms['type'] = html_coms['commentTextItems'].map(type)"
   ]
  },
  {
   "cell_type": "code",
   "execution_count": null,
   "metadata": {},
   "outputs": [],
   "source": [
    "html_coms = html_coms[html_coms['type'] != html_coms.iloc[0,1]]\n",
    "html_coms"
   ]
  },
  {
   "cell_type": "code",
   "execution_count": null,
   "metadata": {},
   "outputs": [],
   "source": [
    "test_comms = af.pre_transform_comms(m)\n",
    "test_comms.head()"
   ]
  },
  {
   "cell_type": "code",
   "execution_count": null,
   "metadata": {},
   "outputs": [],
   "source": []
  }
 ],
 "metadata": {
  "interpreter": {
   "hash": "456b6b94ba0d66ee5bc1d9da3e6e95c84e73f1e1d031ff65315bb403f464dfac"
  },
  "kernelspec": {
   "display_name": "Python 3.10.1 (conda)",
   "language": "python",
   "name": "python3"
  },
  "language_info": {
   "codemirror_mode": {
    "name": "ipython",
    "version": 3
   },
   "file_extension": ".py",
   "mimetype": "text/x-python",
   "name": "python",
   "nbconvert_exporter": "python",
   "pygments_lexer": "ipython3",
   "version": "3.10.1"
  },
  "orig_nbformat": 4
 },
 "nbformat": 4,
 "nbformat_minor": 2
}
